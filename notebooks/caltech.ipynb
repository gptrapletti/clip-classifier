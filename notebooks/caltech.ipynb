{
 "cells": [
  {
   "cell_type": "code",
   "execution_count": null,
   "metadata": {},
   "outputs": [],
   "source": [
    "# Download Caltech256 dataset with: wget https://data.caltech.edu/records/nyy15-4j048/files/256_ObjectCategories.tar?download=1 -O caltech256\n",
    "# Unpack it with: tar -xvf caltech256.tar (creates many subfolders in working dir!)"
   ]
  },
  {
   "cell_type": "code",
   "execution_count": 1,
   "metadata": {},
   "outputs": [],
   "source": [
    "import os\n",
    "import shutil\n",
    "import random\n",
    "import pandas as pd\n",
    "from tqdm import tqdm\n",
    "\n",
    "os.chdir('../')"
   ]
  },
  {
   "cell_type": "code",
   "execution_count": 2,
   "metadata": {},
   "outputs": [],
   "source": [
    "# 197 stairs images --> 65 per class"
   ]
  },
  {
   "cell_type": "code",
   "execution_count": 2,
   "metadata": {},
   "outputs": [],
   "source": [
    "caltech_dirpath = 'data/caltech256'\n",
    "caltech_subset_dirpath = 'data/caltech256_subset/caltech256_subset'\n",
    "n_subset = 65"
   ]
  },
  {
   "cell_type": "code",
   "execution_count": 3,
   "metadata": {},
   "outputs": [],
   "source": [
    "# categories = ['023.bulldozer', '028.camel', '256.toad']\n",
    "categories = ['049.cormorant', '158.penguin', '207.swan']"
   ]
  },
  {
   "cell_type": "code",
   "execution_count": 4,
   "metadata": {},
   "outputs": [],
   "source": [
    "if os.path.exists(caltech_subset_dirpath):\n",
    "    shutil.rmtree(caltech_subset_dirpath)\n",
    "    os.makedirs(caltech_subset_dirpath)\n",
    "    \n",
    "# os.makedirs(caltech_subset_dirpath, exist_ok=True)"
   ]
  },
  {
   "cell_type": "code",
   "execution_count": 5,
   "metadata": {},
   "outputs": [
    {
     "name": "stdout",
     "output_type": "stream",
     "text": [
      "049.cormorant\n"
     ]
    },
    {
     "name": "stderr",
     "output_type": "stream",
     "text": [
      "100%|██████████| 65/65 [00:00<00:00, 354064.62it/s]\n"
     ]
    },
    {
     "name": "stdout",
     "output_type": "stream",
     "text": [
      "158.penguin\n"
     ]
    },
    {
     "name": "stderr",
     "output_type": "stream",
     "text": [
      "100%|██████████| 65/65 [00:00<00:00, 425319.44it/s]\n"
     ]
    },
    {
     "name": "stdout",
     "output_type": "stream",
     "text": [
      "207.swan\n"
     ]
    },
    {
     "name": "stderr",
     "output_type": "stream",
     "text": [
      "100%|██████████| 65/65 [00:00<00:00, 577605.42it/s]\n"
     ]
    },
    {
     "data": {
      "text/plain": [
       "(195, 195)"
      ]
     },
     "execution_count": 5,
     "metadata": {},
     "output_type": "execute_result"
    }
   ],
   "source": [
    "caltech256_subset_filepaths = []\n",
    "caltech256_subset_gts = []\n",
    "\n",
    "for category in sorted(os.listdir(caltech_dirpath)):\n",
    "    if category in categories:\n",
    "        print(category)\n",
    "        filepaths = sorted([os.path.join(caltech_dirpath, category, fp) for fp in os.listdir(os.path.join(caltech_dirpath, category))])\n",
    "        random.seed(42)\n",
    "        subset_filepaths = sorted(random.sample(filepaths, n_subset))\n",
    "        for filepath in tqdm(subset_filepaths):\n",
    "            caltech256_subset_filepaths.append(filepath)\n",
    "            gt = category.split('.')[1]\n",
    "            caltech256_subset_gts.append(gt)\n",
    "            # filename = os.path.basename(filepath)\n",
    "            # shutil.copy2(src=filepath, dst=os.path.join(caltech_subset_dirpath, filename))\n",
    "            \n",
    "len(caltech256_subset_filepaths), len(caltech256_subset_gts)"
   ]
  },
  {
   "cell_type": "code",
   "execution_count": 6,
   "metadata": {},
   "outputs": [],
   "source": [
    "random.seed(42)\n",
    "random.shuffle(caltech256_subset_filepaths)\n",
    "\n",
    "random.seed(42)\n",
    "random.shuffle(caltech256_subset_gts)"
   ]
  },
  {
   "cell_type": "code",
   "execution_count": 7,
   "metadata": {},
   "outputs": [],
   "source": [
    "caltech256_subset_renamed_filepaths = []\n",
    "for i, filepath in enumerate(caltech256_subset_filepaths):\n",
    "    new_filename = f'caltech_{str(i + 1).zfill(3)}.jpg'\n",
    "    new_filepath = os.path.join(caltech_subset_dirpath, new_filename)\n",
    "    caltech256_subset_renamed_filepaths.append(new_filepath)"
   ]
  },
  {
   "cell_type": "code",
   "execution_count": 8,
   "metadata": {},
   "outputs": [],
   "source": [
    "# Move and rename\n",
    "for src, dst in zip(caltech256_subset_filepaths, caltech256_subset_renamed_filepaths):\n",
    "    shutil.copy(src=src, dst=dst)"
   ]
  },
  {
   "cell_type": "code",
   "execution_count": 9,
   "metadata": {},
   "outputs": [],
   "source": [
    "df = pd.DataFrame({'filepath': caltech256_subset_renamed_filepaths, 'GT': caltech256_subset_gts})"
   ]
  },
  {
   "cell_type": "code",
   "execution_count": 10,
   "metadata": {},
   "outputs": [],
   "source": [
    "df.GT = df.GT.replace({\n",
    "    categories[0].split('.')[1]: 'angular', \n",
    "    categories[1].split('.')[1]: 'bent', \n",
    "    categories[2].split('.')[1]: 'straight'}\n",
    ")"
   ]
  },
  {
   "cell_type": "code",
   "execution_count": 11,
   "metadata": {},
   "outputs": [],
   "source": [
    "df.to_csv('data/caltech256_subset/caltech256_subset_annotation.csv')"
   ]
  }
 ],
 "metadata": {
  "kernelspec": {
   "display_name": "clipclass",
   "language": "python",
   "name": "python3"
  },
  "language_info": {
   "codemirror_mode": {
    "name": "ipython",
    "version": 3
   },
   "file_extension": ".py",
   "mimetype": "text/x-python",
   "name": "python",
   "nbconvert_exporter": "python",
   "pygments_lexer": "ipython3",
   "version": "3.9.18"
  }
 },
 "nbformat": 4,
 "nbformat_minor": 2
}
