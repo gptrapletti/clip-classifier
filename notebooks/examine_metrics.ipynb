{
 "cells": [
  {
   "cell_type": "code",
   "execution_count": 1,
   "metadata": {},
   "outputs": [],
   "source": [
    "import os\n",
    "import matplotlib.pyplot as plt\n",
    "import numpy as np\n",
    "\n",
    "os.chdir('/home/gpievanitrapletti/genai/multimodality/clip-classifier/')"
   ]
  },
  {
   "cell_type": "code",
   "execution_count": 2,
   "metadata": {},
   "outputs": [],
   "source": [
    "experiment_dirpath = 'mlruns/942499782603514726'"
   ]
  },
  {
   "cell_type": "code",
   "execution_count": 3,
   "metadata": {},
   "outputs": [],
   "source": [
    "def get_values(run_id, metric):\n",
    "    metric_filepath = os.path.join(experiment_dirpath, run_id, 'metrics', metric)\n",
    "    with open(metric_filepath, 'r') as f:\n",
    "        text = f.read()\n",
    "    values = [float(el.split(' ')[1]) for el in text.split('\\n') if len(el.split(' ')) == 3]\n",
    "    return values"
   ]
  },
  {
   "cell_type": "code",
   "execution_count": 4,
   "metadata": {},
   "outputs": [],
   "source": [
    "# val_losses = get_values(run_id, 'val_loss')\n",
    "# plt.plot(val_losses)"
   ]
  },
  {
   "cell_type": "code",
   "execution_count": 5,
   "metadata": {},
   "outputs": [],
   "source": [
    "# val_metrics = get_values(run_id, 'val_metric')\n",
    "# plt.plot(val_metrics)"
   ]
  },
  {
   "cell_type": "code",
   "execution_count": 12,
   "metadata": {},
   "outputs": [
    {
     "data": {
      "text/plain": [
       "(1.0, 1.0, 1.0)"
      ]
     },
     "execution_count": 12,
     "metadata": {},
     "output_type": "execute_result"
    }
   ],
   "source": [
    "values = get_values(run_id='272be230facd4694834590b3092ade0a', metric='val_metric')\n",
    "\n",
    "round(np.max(values), 2), round(np.mean(values[10:]), 2), round(np.mean(values[5:]), 2)"
   ]
  }
 ],
 "metadata": {
  "kernelspec": {
   "display_name": "clipclass",
   "language": "python",
   "name": "python3"
  },
  "language_info": {
   "codemirror_mode": {
    "name": "ipython",
    "version": 3
   },
   "file_extension": ".py",
   "mimetype": "text/x-python",
   "name": "python",
   "nbconvert_exporter": "python",
   "pygments_lexer": "ipython3",
   "version": "3.9.18"
  }
 },
 "nbformat": 4,
 "nbformat_minor": 2
}
