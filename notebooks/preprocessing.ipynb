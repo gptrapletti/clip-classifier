{
 "cells": [
  {
   "cell_type": "code",
   "execution_count": 61,
   "metadata": {},
   "outputs": [],
   "source": [
    "import os\n",
    "import numpy as np\n",
    "import cv2\n",
    "import PIL.Image, PIL.ImageOps\n",
    "from tqdm import tqdm"
   ]
  },
  {
   "cell_type": "code",
   "execution_count": 16,
   "metadata": {},
   "outputs": [
    {
     "data": {
      "text/plain": [
       "197"
      ]
     },
     "execution_count": 16,
     "metadata": {},
     "output_type": "execute_result"
    }
   ],
   "source": [
    "IMAGE_PATH = 'data/stairs_dataset_20231124'\n",
    "filepaths = sorted([os.path.join(IMAGE_PATH, fp) for fp in os.listdir(IMAGE_PATH)])\n",
    "len(filepaths)"
   ]
  },
  {
   "cell_type": "code",
   "execution_count": null,
   "metadata": {},
   "outputs": [],
   "source": [
    "# Largest image idx: 71, 161"
   ]
  },
  {
   "cell_type": "code",
   "execution_count": 50,
   "metadata": {},
   "outputs": [],
   "source": [
    "def resize_and_pad(filepath, max_length):\n",
    "    image = PIL.Image.open(filepath)\n",
    "\n",
    "    ## Resize\n",
    "    longest_side = 0 if max(image._size) == image._size[0] else 1\n",
    "    scaling_factor = max_length / image._size[longest_side]\n",
    "    new_longest_side = 500\n",
    "    new_other_side = int(scaling_factor * image._size[abs(longest_side - 1)])\n",
    "    new_width = new_longest_side if longest_side == 0 else new_other_side\n",
    "    new_height = new_longest_side if longest_side == 1 else new_other_side\n",
    "\n",
    "    # # More readable version\n",
    "    # if height > width:\n",
    "    #     scaling_factor = max_length / height\n",
    "    #     new_height = max_length\n",
    "    #     new_width = int(width * scaling_factor)\n",
    "    # elif width > height:\n",
    "    #     scaling_factor = max_length / width\n",
    "    #     new_width = max_length\n",
    "    #     new_height = int(height * scaling_factor)\n",
    "    # elif width == height:\n",
    "    #     new_height = max_length\n",
    "    #     new_width = max_width\n",
    "    # else:\n",
    "    #     raise ValueError('Invalid image dimensions.')\n",
    "\n",
    "    resized_image = image.resize((new_width, new_height))\n",
    "    padded_image = PIL.ImageOps.pad(resized_image, (max_length, max_length))\n",
    "\n",
    "    return padded_image \n",
    "\n",
    "    "
   ]
  },
  {
   "cell_type": "code",
   "execution_count": null,
   "metadata": {},
   "outputs": [],
   "source": [
    "resize_and_pad(filepaths[33], max_length=500)"
   ]
  },
  {
   "cell_type": "code",
   "execution_count": 63,
   "metadata": {},
   "outputs": [
    {
     "name": "stderr",
     "output_type": "stream",
     "text": [
      "100%|██████████| 197/197 [00:06<00:00, 31.69it/s]\n"
     ]
    }
   ],
   "source": [
    "for filepath in tqdm(filepaths):\n",
    "    _ = resize_and_pad(filepath, max_length=500)"
   ]
  }
 ],
 "metadata": {
  "kernelspec": {
   "display_name": "Python 3",
   "language": "python",
   "name": "python3"
  },
  "language_info": {
   "codemirror_mode": {
    "name": "ipython",
    "version": 3
   },
   "file_extension": ".py",
   "mimetype": "text/x-python",
   "name": "python",
   "nbconvert_exporter": "python",
   "pygments_lexer": "ipython3",
   "version": "3.10.11"
  },
  "orig_nbformat": 4
 },
 "nbformat": 4,
 "nbformat_minor": 2
}
