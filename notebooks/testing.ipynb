{
 "cells": [
  {
   "cell_type": "code",
   "execution_count": 1,
   "metadata": {},
   "outputs": [
    {
     "name": "stderr",
     "output_type": "stream",
     "text": [
      "/home/gptrapletti/ds/.miniconda/envs/clipclass/lib/python3.9/site-packages/tqdm/auto.py:21: TqdmWarning: IProgress not found. Please update jupyter and ipywidgets. See https://ipywidgets.readthedocs.io/en/stable/user_install.html\n",
      "  from .autonotebook import tqdm as notebook_tqdm\n"
     ]
    }
   ],
   "source": [
    "import os\n",
    "import random\n",
    "import yaml\n",
    "import torch\n",
    "import torch.cuda as cuda\n",
    "from datetime import datetime\n",
    "import mlflow\n",
    "from box import Box\n",
    "import cv2\n",
    "import matplotlib.pyplot as plt\n",
    "import pytorch_lightning as pl\n",
    "\n",
    "from src.datamodule import CCDataModule\n",
    "from src.encoder import CLIPEncoder, ResNetEncoder\n",
    "from src.classifier import CCClassifierSmall, CCClassifierLarge\n",
    "from src.module import CCModule\n",
    "from src.callbacks import get_callbacks\n",
    "from src.logger import get_logger\n",
    "from src.trainer import get_trainer\n",
    "\n",
    "os.chdir('../')\n",
    "torch.set_float32_matmul_precision('medium')"
   ]
  },
  {
   "cell_type": "markdown",
   "metadata": {},
   "source": [
    "## Test and compute metrics"
   ]
  },
  {
   "cell_type": "code",
   "execution_count": 7,
   "metadata": {},
   "outputs": [],
   "source": [
    "with open('config.yaml', 'r') as f:\n",
    "    cfg = Box(yaml.safe_load(f))"
   ]
  },
  {
   "cell_type": "code",
   "execution_count": 8,
   "metadata": {},
   "outputs": [],
   "source": [
    "datamodule = CCDataModule(\n",
    "    encoder_name=cfg.encoder_name,\n",
    "    image_path=cfg.image_path,\n",
    "    gt_path=cfg.gt_path,\n",
    "    val_size=cfg.val_size,\n",
    "    test_size=cfg.test_size,\n",
    "    batch_size=cfg.batch_size,\n",
    "    seed=cfg.seed,\n",
    ")\n",
    "\n",
    "datamodule.prepare_data()\n",
    "datamodule.setup('train')\n",
    "dl = datamodule.val_dataloader()"
   ]
  },
  {
   "cell_type": "code",
   "execution_count": null,
   "metadata": {},
   "outputs": [
    {
     "name": "stderr",
     "output_type": "stream",
     "text": [
      "/opt/conda/envs/cc3/lib/python3.9/site-packages/pytorch_lightning/utilities/migration/utils.py:49: PossibleUserWarning: The loaded checkpoint was produced with Lightning v2.1.2, which is newer than your current Lightning version: v1.9.5\n",
      "  rank_zero_warn(\n",
      "/opt/conda/envs/cc3/lib/python3.9/site-packages/pytorch_lightning/utilities/parsing.py:269: UserWarning: Attribute 'encoder' is an instance of `nn.Module` and is already saved during checkpointing. It is recommended to ignore them using `self.save_hyperparameters(ignore=['encoder'])`.\n",
      "  rank_zero_warn(\n",
      "/opt/conda/envs/cc3/lib/python3.9/site-packages/pytorch_lightning/utilities/parsing.py:269: UserWarning: Attribute 'classifier' is an instance of `nn.Module` and is already saved during checkpointing. It is recommended to ignore them using `self.save_hyperparameters(ignore=['classifier'])`.\n",
      "  rank_zero_warn(\n"
     ]
    }
   ],
   "source": [
    "ckp_filepath = 'checkpoints/20231221-161459/epoch=4.ckpt'\n",
    "# model = CCModule.load_from_checkpoint(ckp_filepath)\n",
    "model = CCModule.load_from_checkpoint(ckp_filepath, map_location=torch.device('cpu'))"
   ]
  },
  {
   "cell_type": "code",
   "execution_count": null,
   "metadata": {},
   "outputs": [],
   "source": []
  },
  {
   "cell_type": "code",
   "execution_count": null,
   "metadata": {},
   "outputs": [],
   "source": [
    "trainer.test(model, dataloaders=dl)"
   ]
  },
  {
   "cell_type": "code",
   "execution_count": null,
   "metadata": {},
   "outputs": [],
   "source": [
    "model.eval()\n",
    "\n",
    "preds_ls = []\n",
    "for batch in dl:\n",
    "    images, labels = batch\n",
    "    print(images.shape, labels.shape)\n",
    "    preds = model(images)\n",
    "    preds_ls.append(preds)\n",
    "\n",
    "print(images.norm().item(), preds.norm().item())"
   ]
  },
  {
   "cell_type": "code",
   "execution_count": null,
   "metadata": {},
   "outputs": [],
   "source": [
    "preds_ls[0].shape"
   ]
  },
  {
   "cell_type": "code",
   "execution_count": null,
   "metadata": {},
   "outputs": [],
   "source": [
    "probs = torch.nn.functional.softmax(preds_ls[0], dim=1)\n",
    "probs = torch.round(probs, decimals=2)\n",
    "probs.shape"
   ]
  },
  {
   "cell_type": "code",
   "execution_count": null,
   "metadata": {},
   "outputs": [],
   "source": [
    "pred_labels = torch.argmax(probs, dim=1)\n",
    "pred_labels"
   ]
  },
  {
   "cell_type": "code",
   "execution_count": null,
   "metadata": {},
   "outputs": [],
   "source": [
    "gt_labels = torch.argmax(labels, dim=1)\n",
    "gt_labels"
   ]
  },
  {
   "cell_type": "code",
   "execution_count": null,
   "metadata": {},
   "outputs": [],
   "source": [
    "accuracy = (pred_labels == gt_labels).sum() / pred_labels.shape[0]\n",
    "accuracy"
   ]
  },
  {
   "cell_type": "code",
   "execution_count": null,
   "metadata": {},
   "outputs": [],
   "source": [
    "from torchmetrics import Accuracy\n",
    "accuracy_fn = Accuracy(task=\"multiclass\", num_classes=3)\n",
    "accuracy_fn(preds=pred_labels, target=gt_labels)"
   ]
  },
  {
   "cell_type": "markdown",
   "metadata": {},
   "source": []
  },
  {
   "cell_type": "markdown",
   "metadata": {},
   "source": [
    "## Create PDFs"
   ]
  },
  {
   "cell_type": "code",
   "execution_count": null,
   "metadata": {},
   "outputs": [],
   "source": [
    "import cv2\n",
    "import matplotlib.pyplot as plt\n",
    "import os\n",
    "from matplotlib.backends.backend_pdf import PdfPages\n",
    "from tqdm import tqdm\n",
    "\n",
    "correct_predictions_pdf = PdfPages('output/correct_predictions.pdf')\n",
    "wrong_predictions_pdf = PdfPages('output/wrong_predictions.pdf')\n",
    "\n",
    "for path, pred, gt in tqdm(zip(datamodule.val_filepaths, preds, gts), total=len(preds)):\n",
    "    img = cv2.imread(path)\n",
    "    img = cv2.cvtColor(img, cv2.COLOR_BGR2RGB)\n",
    "    \n",
    "    plt.figure(figsize=(4, 4))\n",
    "    plt.imshow(img)\n",
    "    plt.title(os.path.basename(path))\n",
    "    plt.axis('off')\n",
    "    text = f'GT: {mapping[gt]} - PRED: {mapping[pred]}'\n",
    "    plt.figtext(0.5, 0.05, text, ha=\"center\", fontsize=12)\n",
    "\n",
    "    if pred == gt:\n",
    "        correct_predictions_pdf.savefig()\n",
    "    else:\n",
    "        wrong_predictions_pdf.savefig()\n",
    "\n",
    "    plt.close()\n",
    "\n",
    "correct_predictions_pdf.close()\n",
    "wrong_predictions_pdf.close()"
   ]
  },
  {
   "cell_type": "markdown",
   "metadata": {},
   "source": [
    "## Predict"
   ]
  },
  {
   "cell_type": "code",
   "execution_count": 25,
   "metadata": {},
   "outputs": [],
   "source": [
    "with open('config.yaml', 'r') as f:\n",
    "    cfg = Box(yaml.safe_load(f))"
   ]
  },
  {
   "cell_type": "code",
   "execution_count": 26,
   "metadata": {},
   "outputs": [],
   "source": [
    "datamodule = CCDataModule(\n",
    "    encoder_name=cfg.encoder_name,\n",
    "    image_path=cfg.image_path,\n",
    "    gt_path=cfg.gt_path,\n",
    "    val_size=cfg.val_size,\n",
    "    test_size=cfg.test_size,\n",
    "    batch_size=cfg.batch_size,\n",
    "    seed=cfg.seed,\n",
    ")\n",
    "\n",
    "datamodule.prepare_data()\n",
    "datamodule.setup('train')\n",
    "dl = datamodule.val_dataloader()"
   ]
  },
  {
   "cell_type": "code",
   "execution_count": 27,
   "metadata": {},
   "outputs": [
    {
     "name": "stderr",
     "output_type": "stream",
     "text": [
      "/home/gptrapletti/ds/.miniconda/envs/clipclass/lib/python3.9/site-packages/pytorch_lightning/utilities/parsing.py:269: UserWarning: Attribute 'encoder' is an instance of `nn.Module` and is already saved during checkpointing. It is recommended to ignore them using `self.save_hyperparameters(ignore=['encoder'])`.\n",
      "  rank_zero_warn(\n",
      "/home/gptrapletti/ds/.miniconda/envs/clipclass/lib/python3.9/site-packages/pytorch_lightning/utilities/parsing.py:269: UserWarning: Attribute 'classifier' is an instance of `nn.Module` and is already saved during checkpointing. It is recommended to ignore them using `self.save_hyperparameters(ignore=['classifier'])`.\n",
      "  rank_zero_warn(\n"
     ]
    }
   ],
   "source": [
    "model = CCModule.load_from_checkpoint(cfg.best_ckp_path)\n",
    "\n",
    "## Model gets loaded in the GPU because it's in its internal configs/hyperparams.\n",
    "## To load it directly into the CPU use this instead\n",
    "# model = CCModule.load_from_checkpoint(ckp_filepath, map_location=torch.device('cpu'))"
   ]
  },
  {
   "cell_type": "code",
   "execution_count": 28,
   "metadata": {},
   "outputs": [
    {
     "name": "stderr",
     "output_type": "stream",
     "text": [
      "GPU available: True (cuda), used: True\n",
      "TPU available: False, using: 0 TPU cores\n",
      "IPU available: False, using: 0 IPUs\n",
      "HPU available: False, using: 0 HPUs\n"
     ]
    }
   ],
   "source": [
    "trainer = pl.Trainer(\n",
    "    max_epochs=cfg.epochs,\n",
    "    logger=None,\n",
    "    callbacks=None,\n",
    "    log_every_n_steps=5,\n",
    "    gradient_clip_val=0.5,\n",
    "    accelerator='gpu',\n",
    "    devices=[0],\n",
    ")"
   ]
  },
  {
   "cell_type": "code",
   "execution_count": 29,
   "metadata": {},
   "outputs": [
    {
     "name": "stderr",
     "output_type": "stream",
     "text": [
      "You are using a CUDA device ('NVIDIA GeForce RTX 3050 Laptop GPU') that has Tensor Cores. To properly utilize them, you should set `torch.set_float32_matmul_precision('medium' | 'high')` which will trade-off precision for performance. For more details, read https://pytorch.org/docs/stable/generated/torch.set_float32_matmul_precision.html#torch.set_float32_matmul_precision\n",
      "LOCAL_RANK: 0 - CUDA_VISIBLE_DEVICES: [0]\n"
     ]
    },
    {
     "name": "stdout",
     "output_type": "stream",
     "text": [
      "Predicting DataLoader 0: 100%|██████████| 2/2 [00:00<00:00,  5.89it/s]\n"
     ]
    }
   ],
   "source": [
    "model.eval()\n",
    "pred = trainer.predict(dataloaders=dl, model=model)"
   ]
  },
  {
   "cell_type": "code",
   "execution_count": null,
   "metadata": {},
   "outputs": [],
   "source": [
    "# V2\n",
    "# model.to('cuda:0')\n",
    "\n",
    "datamodule.prepare_data()\n",
    "datamodule.setup('train')\n",
    "dl = datamodule.val_dataloader()\n",
    "\n",
    "model.eval()\n",
    "\n",
    "preds_ls = []\n",
    "for batch in dl:\n",
    "    images, labels = batch\n",
    "    images = images.to('cuda:0')\n",
    "    labels = labels.to('cuda:0')\n",
    "    preds = model(images)\n",
    "    preds_ls.append(preds)\n",
    "    \n",
    "# preds_ls = []\n",
    "# for i in range(100):\n",
    "#     for batch in dl:\n",
    "#         images, labels = batch\n",
    "#         images = images.to('cuda:0')\n",
    "#         labels = labels.to('cuda:0')\n",
    "#         preds = model(images)\n",
    "#         preds_ls.append(preds)\n",
    "    \n",
    "len(preds_ls)"
   ]
  },
  {
   "cell_type": "markdown",
   "metadata": {},
   "source": [
    "## Evaluate"
   ]
  },
  {
   "cell_type": "code",
   "execution_count": 14,
   "metadata": {},
   "outputs": [],
   "source": [
    "with open('config.yaml', 'r') as f:\n",
    "    cfg = Box(yaml.safe_load(f))"
   ]
  },
  {
   "cell_type": "code",
   "execution_count": 15,
   "metadata": {},
   "outputs": [],
   "source": [
    "datamodule = CCDataModule(\n",
    "    encoder_name=cfg.encoder_name,\n",
    "    image_path=cfg.image_path,\n",
    "    gt_path=cfg.gt_path,\n",
    "    val_size=cfg.val_size,\n",
    "    test_size=cfg.test_size,\n",
    "    batch_size=cfg.batch_size,\n",
    "    seed=cfg.seed,\n",
    ")\n",
    "\n",
    "datamodule.prepare_data()"
   ]
  },
  {
   "cell_type": "code",
   "execution_count": 4,
   "metadata": {},
   "outputs": [
    {
     "name": "stderr",
     "output_type": "stream",
     "text": [
      "/opt/conda/envs/cc3/lib/python3.9/site-packages/pytorch_lightning/utilities/parsing.py:269: UserWarning: Attribute 'encoder' is an instance of `nn.Module` and is already saved during checkpointing. It is recommended to ignore them using `self.save_hyperparameters(ignore=['encoder'])`.\n",
      "  rank_zero_warn(\n",
      "/opt/conda/envs/cc3/lib/python3.9/site-packages/pytorch_lightning/utilities/parsing.py:269: UserWarning: Attribute 'classifier' is an instance of `nn.Module` and is already saved during checkpointing. It is recommended to ignore them using `self.save_hyperparameters(ignore=['classifier'])`.\n",
      "  rank_zero_warn(\n"
     ]
    }
   ],
   "source": [
    "ckp_filepath = 'checkpoints/20231221-231007/epoch=2.ckpt'\n",
    "model = CCModule.load_from_checkpoint(ckp_filepath)"
   ]
  },
  {
   "cell_type": "code",
   "execution_count": null,
   "metadata": {},
   "outputs": [],
   "source": [
    "model.eval()\n",
    "model.to('cuda:0')\n",
    "model.evaluate(datamodule, 'cuda:0')"
   ]
  },
  {
   "cell_type": "markdown",
   "metadata": {},
   "source": [
    "## Predict via callback"
   ]
  },
  {
   "cell_type": "code",
   "execution_count": 2,
   "metadata": {},
   "outputs": [],
   "source": [
    "with open('config.yaml', 'r') as f:\n",
    "    cfg = Box(yaml.safe_load(f))"
   ]
  },
  {
   "cell_type": "code",
   "execution_count": 3,
   "metadata": {},
   "outputs": [],
   "source": [
    "datamodule = CCDataModule(\n",
    "    encoder_name=cfg.encoder_name,\n",
    "    image_path=cfg.image_path,\n",
    "    gt_path=cfg.gt_path,\n",
    "    val_size=cfg.val_size,\n",
    "    test_size=cfg.test_size,\n",
    "    batch_size=cfg.batch_size,\n",
    "    seed=cfg.seed,\n",
    ")"
   ]
  },
  {
   "cell_type": "code",
   "execution_count": 4,
   "metadata": {},
   "outputs": [
    {
     "name": "stderr",
     "output_type": "stream",
     "text": [
      "/home/gptrapletti/ds/.miniconda/envs/clipclass/lib/python3.9/site-packages/pytorch_lightning/utilities/parsing.py:269: UserWarning: Attribute 'encoder' is an instance of `nn.Module` and is already saved during checkpointing. It is recommended to ignore them using `self.save_hyperparameters(ignore=['encoder'])`.\n",
      "  rank_zero_warn(\n",
      "/home/gptrapletti/ds/.miniconda/envs/clipclass/lib/python3.9/site-packages/pytorch_lightning/utilities/parsing.py:269: UserWarning: Attribute 'classifier' is an instance of `nn.Module` and is already saved during checkpointing. It is recommended to ignore them using `self.save_hyperparameters(ignore=['classifier'])`.\n",
      "  rank_zero_warn(\n"
     ]
    }
   ],
   "source": [
    "model = CCModule.load_from_checkpoint(cfg.best_ckp_path)"
   ]
  },
  {
   "cell_type": "code",
   "execution_count": 5,
   "metadata": {},
   "outputs": [],
   "source": [
    "callbacks = get_callbacks(ckp_path=cfg.ckp_path)"
   ]
  },
  {
   "cell_type": "code",
   "execution_count": 6,
   "metadata": {},
   "outputs": [
    {
     "name": "stderr",
     "output_type": "stream",
     "text": [
      "GPU available: True (cuda), used: True\n",
      "TPU available: False, using: 0 TPU cores\n",
      "IPU available: False, using: 0 IPUs\n",
      "HPU available: False, using: 0 HPUs\n"
     ]
    }
   ],
   "source": [
    "trainer = pl.Trainer(\n",
    "    max_epochs=cfg.epochs,\n",
    "    logger=None,\n",
    "    callbacks=callbacks,\n",
    "    log_every_n_steps=5,\n",
    "    gradient_clip_val=0.5,\n",
    "    accelerator='gpu',\n",
    "    devices=[0],\n",
    "    enable_progress_bar=False,\n",
    ")"
   ]
  },
  {
   "cell_type": "code",
   "execution_count": 7,
   "metadata": {},
   "outputs": [
    {
     "name": "stderr",
     "output_type": "stream",
     "text": [
      "LOCAL_RANK: 0 - CUDA_VISIBLE_DEVICES: [0]\n"
     ]
    },
    {
     "name": "stdout",
     "output_type": "stream",
     "text": [
      "\n",
      "Report generated!\n"
     ]
    }
   ],
   "source": [
    "model.eval()\n",
    "pred = trainer.predict(model=model, datamodule=datamodule)"
   ]
  },
  {
   "cell_type": "code",
   "execution_count": 11,
   "metadata": {},
   "outputs": [
    {
     "data": {
      "text/plain": [
       "torch.Size([16, 3])"
      ]
     },
     "execution_count": 11,
     "metadata": {},
     "output_type": "execute_result"
    }
   ],
   "source": [
    "pred[0].shape"
   ]
  }
 ],
 "metadata": {
  "kernelspec": {
   "display_name": "Python 3",
   "language": "python",
   "name": "python3"
  },
  "language_info": {
   "codemirror_mode": {
    "name": "ipython",
    "version": 3
   },
   "file_extension": ".py",
   "mimetype": "text/x-python",
   "name": "python",
   "nbconvert_exporter": "python",
   "pygments_lexer": "ipython3",
   "version": "3.9.18"
  },
  "orig_nbformat": 4
 },
 "nbformat": 4,
 "nbformat_minor": 2
}
