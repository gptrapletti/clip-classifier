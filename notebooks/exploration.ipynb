{
 "cells": [
  {
   "cell_type": "code",
   "execution_count": 1,
   "metadata": {},
   "outputs": [],
   "source": [
    "import os\n",
    "import pandas as pd\n",
    "import numpy as np\n",
    "import cv2\n",
    "import torch\n",
    "import torchvision\n",
    "import sklearn.model_selection\n",
    "from collections import Counter\n",
    "import matplotlib.pyplot as plt\n",
    "import albumentations as A\n",
    "import torchsummary\n",
    "import transformers"
   ]
  },
  {
   "cell_type": "code",
   "execution_count": 2,
   "metadata": {},
   "outputs": [
    {
     "data": {
      "text/plain": [
       "'/teamspace/studios/this_studio'"
      ]
     },
     "execution_count": 2,
     "metadata": {},
     "output_type": "execute_result"
    }
   ],
   "source": [
    "os.getcwd()"
   ]
  },
  {
   "cell_type": "code",
   "execution_count": 3,
   "metadata": {},
   "outputs": [
    {
     "data": {
      "text/html": [
       "<div>\n",
       "<style scoped>\n",
       "    .dataframe tbody tr th:only-of-type {\n",
       "        vertical-align: middle;\n",
       "    }\n",
       "\n",
       "    .dataframe tbody tr th {\n",
       "        vertical-align: top;\n",
       "    }\n",
       "\n",
       "    .dataframe thead th {\n",
       "        text-align: right;\n",
       "    }\n",
       "</style>\n",
       "<table border=\"1\" class=\"dataframe\">\n",
       "  <thead>\n",
       "    <tr style=\"text-align: right;\">\n",
       "      <th></th>\n",
       "      <th>filename</th>\n",
       "      <th>GT</th>\n",
       "    </tr>\n",
       "  </thead>\n",
       "  <tbody>\n",
       "    <tr>\n",
       "      <th>0</th>\n",
       "      <td>stairs_001</td>\n",
       "      <td>bent</td>\n",
       "    </tr>\n",
       "    <tr>\n",
       "      <th>1</th>\n",
       "      <td>stairs_002</td>\n",
       "      <td>straight</td>\n",
       "    </tr>\n",
       "    <tr>\n",
       "      <th>2</th>\n",
       "      <td>stairs_003</td>\n",
       "      <td>bent</td>\n",
       "    </tr>\n",
       "    <tr>\n",
       "      <th>3</th>\n",
       "      <td>stairs_004</td>\n",
       "      <td>angular</td>\n",
       "    </tr>\n",
       "    <tr>\n",
       "      <th>4</th>\n",
       "      <td>stairs_005</td>\n",
       "      <td>straight</td>\n",
       "    </tr>\n",
       "    <tr>\n",
       "      <th>...</th>\n",
       "      <td>...</td>\n",
       "      <td>...</td>\n",
       "    </tr>\n",
       "    <tr>\n",
       "      <th>192</th>\n",
       "      <td>stairs_193</td>\n",
       "      <td>angular</td>\n",
       "    </tr>\n",
       "    <tr>\n",
       "      <th>193</th>\n",
       "      <td>stairs_194</td>\n",
       "      <td>bent</td>\n",
       "    </tr>\n",
       "    <tr>\n",
       "      <th>194</th>\n",
       "      <td>stairs_195</td>\n",
       "      <td>angular</td>\n",
       "    </tr>\n",
       "    <tr>\n",
       "      <th>195</th>\n",
       "      <td>stairs_196</td>\n",
       "      <td>straight</td>\n",
       "    </tr>\n",
       "    <tr>\n",
       "      <th>196</th>\n",
       "      <td>stairs_197</td>\n",
       "      <td>bent</td>\n",
       "    </tr>\n",
       "  </tbody>\n",
       "</table>\n",
       "<p>197 rows × 2 columns</p>\n",
       "</div>"
      ],
      "text/plain": [
       "       filename        GT\n",
       "0    stairs_001      bent\n",
       "1    stairs_002  straight\n",
       "2    stairs_003      bent\n",
       "3    stairs_004   angular\n",
       "4    stairs_005  straight\n",
       "..          ...       ...\n",
       "192  stairs_193   angular\n",
       "193  stairs_194      bent\n",
       "194  stairs_195   angular\n",
       "195  stairs_196  straight\n",
       "196  stairs_197      bent\n",
       "\n",
       "[197 rows x 2 columns]"
      ]
     },
     "execution_count": 3,
     "metadata": {},
     "output_type": "execute_result"
    }
   ],
   "source": [
    "df = pd.read_csv('data/stairs_dataset_annotation.csv')\n",
    "df['GT'].replace({'curved': 'bent', 'spiral': 'bent'}, inplace=True)\n",
    "\n",
    "df"
   ]
  },
  {
   "cell_type": "code",
   "execution_count": 4,
   "metadata": {},
   "outputs": [
    {
     "data": {
      "text/plain": [
       "GT\n",
       "bent        74\n",
       "straight    63\n",
       "angular     60\n",
       "Name: count, dtype: int64"
      ]
     },
     "execution_count": 4,
     "metadata": {},
     "output_type": "execute_result"
    }
   ],
   "source": [
    "df.GT.value_counts()"
   ]
  },
  {
   "cell_type": "code",
   "execution_count": 5,
   "metadata": {},
   "outputs": [
    {
     "data": {
      "text/plain": [
       "197"
      ]
     },
     "execution_count": 5,
     "metadata": {},
     "output_type": "execute_result"
    }
   ],
   "source": [
    "IMAGE_PATH = 'data/stairs_dataset_20231124'\n",
    "filepaths = sorted([os.path.join(IMAGE_PATH, fp) for fp in os.listdir(IMAGE_PATH)])\n",
    "len(filepaths)"
   ]
  },
  {
   "attachments": {},
   "cell_type": "markdown",
   "metadata": {},
   "source": [
    "## Image sizes"
   ]
  },
  {
   "cell_type": "code",
   "execution_count": 6,
   "metadata": {},
   "outputs": [],
   "source": [
    "# Inspect image size\n",
    "sizes = [cv2.imread(filepath).shape for filepath in filepaths]\n",
    "sorted_sizes = sorted(sizes, reverse=True)"
   ]
  },
  {
   "cell_type": "code",
   "execution_count": 7,
   "metadata": {},
   "outputs": [
    {
     "data": {
      "text/plain": [
       "((5312, 2988, 3), (251, 200, 3))"
      ]
     },
     "execution_count": 7,
     "metadata": {},
     "output_type": "execute_result"
    }
   ],
   "source": [
    "# Larger and smaller images\n",
    "sorted_sizes[0], sorted_sizes[-1]"
   ]
  },
  {
   "attachments": {},
   "cell_type": "markdown",
   "metadata": {},
   "source": [
    "## CLIP instatiation"
   ]
  },
  {
   "cell_type": "code",
   "execution_count": 8,
   "metadata": {},
   "outputs": [],
   "source": [
    "clip_model = transformers.CLIPModel.from_pretrained('openai/clip-vit-base-patch32')\n",
    "clip_model = clip_model.eval()"
   ]
  },
  {
   "cell_type": "code",
   "execution_count": 9,
   "metadata": {},
   "outputs": [
    {
     "data": {
      "text/plain": [
       "(16, 3, 512, 512)"
      ]
     },
     "execution_count": 9,
     "metadata": {},
     "output_type": "execute_result"
    }
   ],
   "source": [
    "input = np.random.randint(low=0, high=255, size=(16, 3, 512, 512))\n",
    "input.shape"
   ]
  },
  {
   "cell_type": "code",
   "execution_count": 10,
   "metadata": {},
   "outputs": [],
   "source": [
    "processor = transformers.CLIPProcessor.from_pretrained(\"openai/clip-vit-base-patch32\")"
   ]
  },
  {
   "cell_type": "code",
   "execution_count": 11,
   "metadata": {},
   "outputs": [
    {
     "data": {
      "text/plain": [
       "(transformers.tokenization_utils_base.BatchEncoding,\n",
       " 1,\n",
       " torch.Size([16, 3, 224, 224]))"
      ]
     },
     "execution_count": 11,
     "metadata": {},
     "output_type": "execute_result"
    }
   ],
   "source": [
    "inputs = processor(images=input, return_tensors='pt')\n",
    "\n",
    "type(inputs), len(list(inputs.items())), inputs['pixel_values'].shape"
   ]
  },
  {
   "cell_type": "code",
   "execution_count": 12,
   "metadata": {},
   "outputs": [
    {
     "data": {
      "text/plain": [
       "torch.Size([16, 512])"
      ]
     },
     "execution_count": 12,
     "metadata": {},
     "output_type": "execute_result"
    }
   ],
   "source": [
    "outputs = clip_model.get_image_features(pixel_values=inputs['pixel_values'])\n",
    "\n",
    "outputs.shape"
   ]
  },
  {
   "attachments": {},
   "cell_type": "markdown",
   "metadata": {},
   "source": [
    "## ResNet instantiation"
   ]
  },
  {
   "cell_type": "code",
   "execution_count": 16,
   "metadata": {},
   "outputs": [],
   "source": [
    "model = torchvision.models.resnet50(weights='IMAGENET1K_V2')\n",
    "# model = torch.hub.load(\"pytorch/vision\", \"resnet50\", weights=\"IMAGENET1K_V2\")\n",
    "model = model.eval()"
   ]
  },
  {
   "cell_type": "code",
   "execution_count": 14,
   "metadata": {},
   "outputs": [
    {
     "data": {
      "text/plain": [
       "ImageClassification(\n",
       "    crop_size=[224]\n",
       "    resize_size=[232]\n",
       "    mean=[0.485, 0.456, 0.406]\n",
       "    std=[0.229, 0.224, 0.225]\n",
       "    interpolation=InterpolationMode.BILINEAR\n",
       ")"
      ]
     },
     "execution_count": 14,
     "metadata": {},
     "output_type": "execute_result"
    }
   ],
   "source": [
    "# Transforms applied by the model\n",
    "torchvision.models.ResNet50_Weights.DEFAULT.transforms()"
   ]
  },
  {
   "attachments": {},
   "cell_type": "markdown",
   "metadata": {},
   "source": [
    "The inference transforms are available at ResNet50_Weights.IMAGENET1K_V2.transforms and perform the following preprocessing operations: Accepts PIL.Image, batched (B, C, H, W) and single (C, H, W) image torch.Tensor objects. The images are resized to resize_size=[232] using interpolation=InterpolationMode.BILINEAR, followed by a central crop of crop_size=[224]. Finally the values are first rescaled to [0.0, 1.0] and then normalized using mean=[0.485, 0.456, 0.406] and std=[0.229, 0.224, 0.225].\n",
    "https://pytorch.org/vision/main/models/generated/torchvision.models.resnet50.html"
   ]
  },
  {
   "cell_type": "code",
   "execution_count": 15,
   "metadata": {},
   "outputs": [],
   "source": [
    "# Random data\n",
    "input = torch.randn((16, 3, 512, 512))"
   ]
  },
  {
   "cell_type": "code",
   "execution_count": 16,
   "metadata": {},
   "outputs": [
    {
     "data": {
      "text/plain": [
       "torch.Size([16, 1000])"
      ]
     },
     "execution_count": 16,
     "metadata": {},
     "output_type": "execute_result"
    }
   ],
   "source": [
    "output = model(input)\n",
    "output.shape\n",
    "\n",
    "# torch.Size([16, 1000])"
   ]
  },
  {
   "cell_type": "code",
   "execution_count": 17,
   "metadata": {},
   "outputs": [],
   "source": [
    "# # How output changes if I remove the last layer\n",
    "# # MAKES NOTEBOOK CRASH ON LIGHTNING\n",
    "# n_layers_to_prune = 1\n",
    "# pruned_model = torch.nn.Sequential(*list(model.children())[:-n_layers_to_prune])\n",
    "# pruned_model = pruned_model.eval()\n",
    "# output = pruned_model(input)\n",
    "# output.shape"
   ]
  },
  {
   "cell_type": "code",
   "execution_count": 15,
   "metadata": {},
   "outputs": [
    {
     "name": "stdout",
     "output_type": "stream",
     "text": [
      "----------------------------------------------------------------\n",
      "        Layer (type)               Output Shape         Param #\n",
      "================================================================\n",
      "            Conv2d-1          [1, 64, 112, 112]           9,408\n",
      "       BatchNorm2d-2          [1, 64, 112, 112]             128\n",
      "              ReLU-3          [1, 64, 112, 112]               0\n",
      "         MaxPool2d-4            [1, 64, 56, 56]               0\n",
      "            Conv2d-5            [1, 64, 56, 56]           4,096\n",
      "       BatchNorm2d-6            [1, 64, 56, 56]             128\n",
      "              ReLU-7            [1, 64, 56, 56]               0\n",
      "            Conv2d-8            [1, 64, 56, 56]          36,864\n",
      "       BatchNorm2d-9            [1, 64, 56, 56]             128\n",
      "             ReLU-10            [1, 64, 56, 56]               0\n",
      "           Conv2d-11           [1, 256, 56, 56]          16,384\n",
      "      BatchNorm2d-12           [1, 256, 56, 56]             512\n",
      "           Conv2d-13           [1, 256, 56, 56]          16,384\n",
      "      BatchNorm2d-14           [1, 256, 56, 56]             512\n",
      "             ReLU-15           [1, 256, 56, 56]               0\n",
      "       Bottleneck-16           [1, 256, 56, 56]               0\n",
      "           Conv2d-17            [1, 64, 56, 56]          16,384\n",
      "      BatchNorm2d-18            [1, 64, 56, 56]             128\n",
      "             ReLU-19            [1, 64, 56, 56]               0\n",
      "           Conv2d-20            [1, 64, 56, 56]          36,864\n",
      "      BatchNorm2d-21            [1, 64, 56, 56]             128\n",
      "             ReLU-22            [1, 64, 56, 56]               0\n",
      "           Conv2d-23           [1, 256, 56, 56]          16,384\n",
      "      BatchNorm2d-24           [1, 256, 56, 56]             512\n",
      "             ReLU-25           [1, 256, 56, 56]               0\n",
      "       Bottleneck-26           [1, 256, 56, 56]               0\n",
      "           Conv2d-27            [1, 64, 56, 56]          16,384\n",
      "      BatchNorm2d-28            [1, 64, 56, 56]             128\n",
      "             ReLU-29            [1, 64, 56, 56]               0\n",
      "           Conv2d-30            [1, 64, 56, 56]          36,864\n",
      "      BatchNorm2d-31            [1, 64, 56, 56]             128\n",
      "             ReLU-32            [1, 64, 56, 56]               0\n",
      "           Conv2d-33           [1, 256, 56, 56]          16,384\n",
      "      BatchNorm2d-34           [1, 256, 56, 56]             512\n",
      "             ReLU-35           [1, 256, 56, 56]               0\n",
      "       Bottleneck-36           [1, 256, 56, 56]               0\n",
      "           Conv2d-37           [1, 128, 56, 56]          32,768\n",
      "      BatchNorm2d-38           [1, 128, 56, 56]             256\n",
      "             ReLU-39           [1, 128, 56, 56]               0\n",
      "           Conv2d-40           [1, 128, 28, 28]         147,456\n",
      "      BatchNorm2d-41           [1, 128, 28, 28]             256\n",
      "             ReLU-42           [1, 128, 28, 28]               0\n",
      "           Conv2d-43           [1, 512, 28, 28]          65,536\n",
      "      BatchNorm2d-44           [1, 512, 28, 28]           1,024\n",
      "           Conv2d-45           [1, 512, 28, 28]         131,072\n",
      "      BatchNorm2d-46           [1, 512, 28, 28]           1,024\n",
      "             ReLU-47           [1, 512, 28, 28]               0\n",
      "       Bottleneck-48           [1, 512, 28, 28]               0\n",
      "           Conv2d-49           [1, 128, 28, 28]          65,536\n",
      "      BatchNorm2d-50           [1, 128, 28, 28]             256\n",
      "             ReLU-51           [1, 128, 28, 28]               0\n",
      "           Conv2d-52           [1, 128, 28, 28]         147,456\n",
      "      BatchNorm2d-53           [1, 128, 28, 28]             256\n",
      "             ReLU-54           [1, 128, 28, 28]               0\n",
      "           Conv2d-55           [1, 512, 28, 28]          65,536\n",
      "      BatchNorm2d-56           [1, 512, 28, 28]           1,024\n",
      "             ReLU-57           [1, 512, 28, 28]               0\n",
      "       Bottleneck-58           [1, 512, 28, 28]               0\n",
      "           Conv2d-59           [1, 128, 28, 28]          65,536\n",
      "      BatchNorm2d-60           [1, 128, 28, 28]             256\n",
      "             ReLU-61           [1, 128, 28, 28]               0\n",
      "           Conv2d-62           [1, 128, 28, 28]         147,456\n",
      "      BatchNorm2d-63           [1, 128, 28, 28]             256\n",
      "             ReLU-64           [1, 128, 28, 28]               0\n",
      "           Conv2d-65           [1, 512, 28, 28]          65,536\n",
      "      BatchNorm2d-66           [1, 512, 28, 28]           1,024\n",
      "             ReLU-67           [1, 512, 28, 28]               0\n",
      "       Bottleneck-68           [1, 512, 28, 28]               0\n",
      "           Conv2d-69           [1, 128, 28, 28]          65,536\n",
      "      BatchNorm2d-70           [1, 128, 28, 28]             256\n",
      "             ReLU-71           [1, 128, 28, 28]               0\n",
      "           Conv2d-72           [1, 128, 28, 28]         147,456\n",
      "      BatchNorm2d-73           [1, 128, 28, 28]             256\n",
      "             ReLU-74           [1, 128, 28, 28]               0\n",
      "           Conv2d-75           [1, 512, 28, 28]          65,536\n",
      "      BatchNorm2d-76           [1, 512, 28, 28]           1,024\n",
      "             ReLU-77           [1, 512, 28, 28]               0\n",
      "       Bottleneck-78           [1, 512, 28, 28]               0\n",
      "           Conv2d-79           [1, 256, 28, 28]         131,072\n",
      "      BatchNorm2d-80           [1, 256, 28, 28]             512\n",
      "             ReLU-81           [1, 256, 28, 28]               0\n",
      "           Conv2d-82           [1, 256, 14, 14]         589,824\n",
      "      BatchNorm2d-83           [1, 256, 14, 14]             512\n",
      "             ReLU-84           [1, 256, 14, 14]               0\n",
      "           Conv2d-85          [1, 1024, 14, 14]         262,144\n",
      "      BatchNorm2d-86          [1, 1024, 14, 14]           2,048\n",
      "           Conv2d-87          [1, 1024, 14, 14]         524,288\n",
      "      BatchNorm2d-88          [1, 1024, 14, 14]           2,048\n",
      "             ReLU-89          [1, 1024, 14, 14]               0\n",
      "       Bottleneck-90          [1, 1024, 14, 14]               0\n",
      "           Conv2d-91           [1, 256, 14, 14]         262,144\n",
      "      BatchNorm2d-92           [1, 256, 14, 14]             512\n",
      "             ReLU-93           [1, 256, 14, 14]               0\n",
      "           Conv2d-94           [1, 256, 14, 14]         589,824\n",
      "      BatchNorm2d-95           [1, 256, 14, 14]             512\n",
      "             ReLU-96           [1, 256, 14, 14]               0\n",
      "           Conv2d-97          [1, 1024, 14, 14]         262,144\n",
      "      BatchNorm2d-98          [1, 1024, 14, 14]           2,048\n",
      "             ReLU-99          [1, 1024, 14, 14]               0\n",
      "      Bottleneck-100          [1, 1024, 14, 14]               0\n",
      "          Conv2d-101           [1, 256, 14, 14]         262,144\n",
      "     BatchNorm2d-102           [1, 256, 14, 14]             512\n",
      "            ReLU-103           [1, 256, 14, 14]               0\n",
      "          Conv2d-104           [1, 256, 14, 14]         589,824\n",
      "     BatchNorm2d-105           [1, 256, 14, 14]             512\n",
      "            ReLU-106           [1, 256, 14, 14]               0\n",
      "          Conv2d-107          [1, 1024, 14, 14]         262,144\n",
      "     BatchNorm2d-108          [1, 1024, 14, 14]           2,048\n",
      "            ReLU-109          [1, 1024, 14, 14]               0\n",
      "      Bottleneck-110          [1, 1024, 14, 14]               0\n",
      "          Conv2d-111           [1, 256, 14, 14]         262,144\n",
      "     BatchNorm2d-112           [1, 256, 14, 14]             512\n",
      "            ReLU-113           [1, 256, 14, 14]               0\n",
      "          Conv2d-114           [1, 256, 14, 14]         589,824\n",
      "     BatchNorm2d-115           [1, 256, 14, 14]             512\n",
      "            ReLU-116           [1, 256, 14, 14]               0\n",
      "          Conv2d-117          [1, 1024, 14, 14]         262,144\n",
      "     BatchNorm2d-118          [1, 1024, 14, 14]           2,048\n",
      "            ReLU-119          [1, 1024, 14, 14]               0\n",
      "      Bottleneck-120          [1, 1024, 14, 14]               0\n",
      "          Conv2d-121           [1, 256, 14, 14]         262,144\n",
      "     BatchNorm2d-122           [1, 256, 14, 14]             512\n",
      "            ReLU-123           [1, 256, 14, 14]               0\n",
      "          Conv2d-124           [1, 256, 14, 14]         589,824\n",
      "     BatchNorm2d-125           [1, 256, 14, 14]             512\n",
      "            ReLU-126           [1, 256, 14, 14]               0\n",
      "          Conv2d-127          [1, 1024, 14, 14]         262,144\n",
      "     BatchNorm2d-128          [1, 1024, 14, 14]           2,048\n",
      "            ReLU-129          [1, 1024, 14, 14]               0\n",
      "      Bottleneck-130          [1, 1024, 14, 14]               0\n",
      "          Conv2d-131           [1, 256, 14, 14]         262,144\n",
      "     BatchNorm2d-132           [1, 256, 14, 14]             512\n",
      "            ReLU-133           [1, 256, 14, 14]               0\n",
      "          Conv2d-134           [1, 256, 14, 14]         589,824\n",
      "     BatchNorm2d-135           [1, 256, 14, 14]             512\n",
      "            ReLU-136           [1, 256, 14, 14]               0\n",
      "          Conv2d-137          [1, 1024, 14, 14]         262,144\n",
      "     BatchNorm2d-138          [1, 1024, 14, 14]           2,048\n",
      "            ReLU-139          [1, 1024, 14, 14]               0\n",
      "      Bottleneck-140          [1, 1024, 14, 14]               0\n",
      "          Conv2d-141           [1, 512, 14, 14]         524,288\n",
      "     BatchNorm2d-142           [1, 512, 14, 14]           1,024\n",
      "            ReLU-143           [1, 512, 14, 14]               0\n",
      "          Conv2d-144             [1, 512, 7, 7]       2,359,296\n",
      "     BatchNorm2d-145             [1, 512, 7, 7]           1,024\n",
      "            ReLU-146             [1, 512, 7, 7]               0\n",
      "          Conv2d-147            [1, 2048, 7, 7]       1,048,576\n",
      "     BatchNorm2d-148            [1, 2048, 7, 7]           4,096\n",
      "          Conv2d-149            [1, 2048, 7, 7]       2,097,152\n",
      "     BatchNorm2d-150            [1, 2048, 7, 7]           4,096\n",
      "            ReLU-151            [1, 2048, 7, 7]               0\n",
      "      Bottleneck-152            [1, 2048, 7, 7]               0\n",
      "          Conv2d-153             [1, 512, 7, 7]       1,048,576\n",
      "     BatchNorm2d-154             [1, 512, 7, 7]           1,024\n",
      "            ReLU-155             [1, 512, 7, 7]               0\n",
      "          Conv2d-156             [1, 512, 7, 7]       2,359,296\n",
      "     BatchNorm2d-157             [1, 512, 7, 7]           1,024\n",
      "            ReLU-158             [1, 512, 7, 7]               0\n",
      "          Conv2d-159            [1, 2048, 7, 7]       1,048,576\n",
      "     BatchNorm2d-160            [1, 2048, 7, 7]           4,096\n",
      "            ReLU-161            [1, 2048, 7, 7]               0\n",
      "      Bottleneck-162            [1, 2048, 7, 7]               0\n",
      "          Conv2d-163             [1, 512, 7, 7]       1,048,576\n",
      "     BatchNorm2d-164             [1, 512, 7, 7]           1,024\n",
      "            ReLU-165             [1, 512, 7, 7]               0\n",
      "          Conv2d-166             [1, 512, 7, 7]       2,359,296\n",
      "     BatchNorm2d-167             [1, 512, 7, 7]           1,024\n",
      "            ReLU-168             [1, 512, 7, 7]               0\n",
      "          Conv2d-169            [1, 2048, 7, 7]       1,048,576\n",
      "     BatchNorm2d-170            [1, 2048, 7, 7]           4,096\n",
      "            ReLU-171            [1, 2048, 7, 7]               0\n",
      "      Bottleneck-172            [1, 2048, 7, 7]               0\n",
      "AdaptiveAvgPool2d-173            [1, 2048, 1, 1]               0\n",
      "          Linear-174                  [1, 1000]       2,049,000\n",
      "================================================================\n",
      "Total params: 25,557,032\n",
      "Trainable params: 25,557,032\n",
      "Non-trainable params: 0\n",
      "----------------------------------------------------------------\n",
      "Input size (MB): 0.57\n",
      "Forward/backward pass size (MB): 286.56\n",
      "Params size (MB): 97.49\n",
      "Estimated Total Size (MB): 384.62\n",
      "----------------------------------------------------------------\n"
     ]
    }
   ],
   "source": [
    "# In-depth check of the output shape of each layer\n",
    "torchsummary.summary(model, input_size=(3, 224, 224), batch_size=1)"
   ]
  },
  {
   "cell_type": "code",
   "execution_count": 48,
   "metadata": {},
   "outputs": [
    {
     "name": "stdout",
     "output_type": "stream",
     "text": [
      "10\n"
     ]
    }
   ],
   "source": [
    "layers = torch.nn.Sequential(*list(model.children()))\n",
    "\n",
    "print(len(layers))\n",
    "\n",
    "# layers"
   ]
  },
  {
   "cell_type": "code",
   "execution_count": 17,
   "metadata": {},
   "outputs": [
    {
     "data": {
      "text/plain": [
       "161"
      ]
     },
     "execution_count": 17,
     "metadata": {},
     "output_type": "execute_result"
    }
   ],
   "source": [
    "named_params = list(model.named_parameters())\n",
    "len(named_params)"
   ]
  },
  {
   "cell_type": "code",
   "execution_count": 31,
   "metadata": {},
   "outputs": [
    {
     "data": {
      "text/plain": [
       "['conv1.weight', 'bn1.weight', 'bn1.bias']"
      ]
     },
     "execution_count": 31,
     "metadata": {},
     "output_type": "execute_result"
    }
   ],
   "source": [
    "# Look at layer names\n",
    "names = [x[0] for x in named_params]\n",
    "\n",
    "names[:3]"
   ]
  },
  {
   "cell_type": "code",
   "execution_count": 40,
   "metadata": {},
   "outputs": [],
   "source": [
    "# Check if layers require grad (that is, are unfrozen)\n",
    "def check_unfrozen_state(model):\n",
    "    named_params = list(model.named_parameters())\n",
    "    return Counter([named_param[1].requires_grad for named_param in named_params])"
   ]
  },
  {
   "cell_type": "code",
   "execution_count": 49,
   "metadata": {},
   "outputs": [
    {
     "data": {
      "text/plain": [
       "Counter({False: 160, True: 1})"
      ]
     },
     "execution_count": 49,
     "metadata": {},
     "output_type": "execute_result"
    }
   ],
   "source": [
    "check_unfrozen_state(model)"
   ]
  },
  {
   "cell_type": "code",
   "execution_count": 34,
   "metadata": {},
   "outputs": [],
   "source": [
    "def freeze_layers(model, n):\n",
    "    '''To freeze the layers of a model. The last `n` layers remain unfrozen.\n",
    "    '''\n",
    "    n_tot_layers = len(list(model.parameters()))\n",
    "    idxs_layers_to_freeze = list(range(0, n_tot_layers - n))\n",
    "\n",
    "    for i, param in enumerate(model.parameters()):\n",
    "        if i in idxs_layers_to_freeze:    \n",
    "            param.requires_grad = False"
   ]
  },
  {
   "cell_type": "code",
   "execution_count": 41,
   "metadata": {},
   "outputs": [
    {
     "data": {
      "text/plain": [
       "Counter({True: 161})"
      ]
     },
     "execution_count": 41,
     "metadata": {},
     "output_type": "execute_result"
    }
   ],
   "source": [
    "model_temp = torchvision.models.resnet50(weights='IMAGENET1K_V2')\n",
    "check_unfrozen_state(model_temp)"
   ]
  },
  {
   "cell_type": "code",
   "execution_count": 42,
   "metadata": {},
   "outputs": [
    {
     "data": {
      "text/plain": [
       "Counter({False: 156, True: 5})"
      ]
     },
     "execution_count": 42,
     "metadata": {},
     "output_type": "execute_result"
    }
   ],
   "source": [
    "freeze_layers(model_temp, 5)\n",
    "check_unfrozen_state(model_temp)"
   ]
  },
  {
   "attachments": {},
   "cell_type": "markdown",
   "metadata": {},
   "source": [
    "## Train-Val-Test split"
   ]
  },
  {
   "cell_type": "code",
   "execution_count": null,
   "metadata": {},
   "outputs": [
    {
     "data": {
      "text/plain": [
       "((167,), (167,), (30,), (30,))"
      ]
     },
     "execution_count": 17,
     "metadata": {},
     "output_type": "execute_result"
    }
   ],
   "source": [
    "X_train_val, X_test, y_train_val, y_test = sklearn.model_selection.train_test_split(\n",
    "    df['filename'].to_numpy(), \n",
    "    df['GT'].to_numpy(), \n",
    "    test_size=0.15, \n",
    "    stratify=df['GT'].to_numpy(),\n",
    "    random_state=42\n",
    ")\n",
    "\n",
    "X_train_val.shape, y_train_val.shape, X_test.shape, y_test.shape"
   ]
  },
  {
   "cell_type": "code",
   "execution_count": null,
   "metadata": {},
   "outputs": [
    {
     "data": {
      "text/plain": [
       "((133,), (133,), (34,), (34,))"
      ]
     },
     "execution_count": 18,
     "metadata": {},
     "output_type": "execute_result"
    }
   ],
   "source": [
    "X_train, X_val, y_train, y_val = sklearn.model_selection.train_test_split(\n",
    "    X_train_val, \n",
    "    y_train_val, \n",
    "    test_size=0.2, \n",
    "    stratify=y_train_val,\n",
    "    random_state=42\n",
    ")\n",
    "\n",
    "X_train.shape, y_train.shape, X_val.shape, y_val.shape"
   ]
  },
  {
   "cell_type": "code",
   "execution_count": null,
   "metadata": {},
   "outputs": [
    {
     "data": {
      "text/plain": [
       "(Counter({'bent': 13, 'straight': 11, 'angular': 10}),\n",
       " Counter({'bent': 11, 'straight': 10, 'angular': 9}))"
      ]
     },
     "execution_count": 19,
     "metadata": {},
     "output_type": "execute_result"
    }
   ],
   "source": [
    "Counter(y_val), Counter(y_test)"
   ]
  },
  {
   "cell_type": "code",
   "execution_count": null,
   "metadata": {},
   "outputs": [],
   "source": [
    "val_df = pd.DataFrame({'filename': X_val, 'GT': y_val})"
   ]
  },
  {
   "cell_type": "code",
   "execution_count": null,
   "metadata": {},
   "outputs": [
    {
     "data": {
      "text/plain": [
       "((157, 2), (40, 2))"
      ]
     },
     "execution_count": 21,
     "metadata": {},
     "output_type": "execute_result"
    }
   ],
   "source": [
    "# Probably cleaner approach\n",
    "df1, df2 = sklearn.model_selection.train_test_split(df, test_size=0.2)\n",
    "\n",
    "df1.shape, df2.shape"
   ]
  },
  {
   "cell_type": "code",
   "execution_count": null,
   "metadata": {},
   "outputs": [],
   "source": [
    "gts = df2.GT.to_list()\n",
    "gts"
   ]
  },
  {
   "cell_type": "code",
   "execution_count": null,
   "metadata": {},
   "outputs": [],
   "source": [
    "from sklearn.preprocessing import LabelEncoder"
   ]
  },
  {
   "cell_type": "code",
   "execution_count": null,
   "metadata": {},
   "outputs": [
    {
     "data": {
      "text/plain": [
       "array([2, 1, 0, 2, 2, 2, 0, 2, 0, 2, 0, 0, 1, 0, 2, 1, 0, 2, 2, 0, 1, 0,\n",
       "       2, 1, 2, 1, 1, 0, 2, 0, 1, 2, 1, 0, 2, 1, 1, 0, 1, 2])"
      ]
     },
     "execution_count": 84,
     "metadata": {},
     "output_type": "execute_result"
    }
   ],
   "source": [
    "encoder = LabelEncoder()\n",
    "encoder.fit_transform(gts)"
   ]
  },
  {
   "cell_type": "code",
   "execution_count": null,
   "metadata": {},
   "outputs": [],
   "source": [
    "encoded = [0 if x=='angular' else 1 if x=='bent' else 2 if x=='straight' else ValueError for x in gts]"
   ]
  },
  {
   "cell_type": "code",
   "execution_count": null,
   "metadata": {},
   "outputs": [
    {
     "data": {
      "text/plain": [
       "tensor([0, 0, 1])"
      ]
     },
     "execution_count": 95,
     "metadata": {},
     "output_type": "execute_result"
    }
   ],
   "source": [
    "torch.nn.functional.one_hot(torch.tensor(encoded[0]))"
   ]
  },
  {
   "cell_type": "code",
   "execution_count": null,
   "metadata": {},
   "outputs": [
    {
     "data": {
      "text/plain": [
       "0"
      ]
     },
     "execution_count": 99,
     "metadata": {},
     "output_type": "execute_result"
    }
   ],
   "source": [
    "x = 'angular'\n",
    "\n",
    "0 if x=='angular' else 1 if x=='bent' else 2 if x=='straight' else ValueError"
   ]
  },
  {
   "cell_type": "code",
   "execution_count": null,
   "metadata": {},
   "outputs": [],
   "source": [
    "def from_gt_to_ohe(gt):\n",
    "    label = 0 if gt =='angular' else 1 if gt =='bent' else 2 if gt =='straight' else ValueError\n",
    "    ohe = torch.nn.functional.one_hot(torch.tensor(label), num_classes=3)\n",
    "    return ohe"
   ]
  },
  {
   "cell_type": "code",
   "execution_count": null,
   "metadata": {},
   "outputs": [
    {
     "data": {
      "text/plain": [
       "(tensor([1, 0, 0]), tensor([0, 1, 0]), tensor([0, 0, 1]))"
      ]
     },
     "execution_count": 104,
     "metadata": {},
     "output_type": "execute_result"
    }
   ],
   "source": [
    "from_gt_to_ohe('angular'), from_gt_to_ohe('bent'), from_gt_to_ohe('straight')"
   ]
  },
  {
   "attachments": {},
   "cell_type": "markdown",
   "metadata": {},
   "source": [
    "## Transforms"
   ]
  },
  {
   "cell_type": "code",
   "execution_count": 6,
   "metadata": {},
   "outputs": [],
   "source": [
    "transforms = A.Compose([\n",
    "    A.LongestMaxSize(max_size=224, interpolation=3, p=1.0),\n",
    "    A.PadIfNeeded(min_height=224, min_width=224, border_mode=0, value=0, mask_value=0, p=1.0),\n",
    "\n",
    "])"
   ]
  },
  {
   "cell_type": "code",
   "execution_count": 7,
   "metadata": {},
   "outputs": [
    {
     "data": {
      "text/plain": [
       "(1080, 716, 3)"
      ]
     },
     "execution_count": 7,
     "metadata": {},
     "output_type": "execute_result"
    }
   ],
   "source": [
    "image = cv2.imread(filepaths[1])\n",
    "image = cv2.cvtColor(image, cv2.COLOR_BGR2RGB)\n",
    "image.shape"
   ]
  },
  {
   "cell_type": "code",
   "execution_count": null,
   "metadata": {},
   "outputs": [],
   "source": [
    "plt.imshow(image)"
   ]
  },
  {
   "cell_type": "code",
   "execution_count": null,
   "metadata": {},
   "outputs": [],
   "source": [
    "transformed_image = transforms(image=image)['image']\n",
    "print(transformed_image.shape)\n",
    "plt.imshow(transformed_image)\n",
    "plt.show()"
   ]
  },
  {
   "cell_type": "code",
   "execution_count": 28,
   "metadata": {},
   "outputs": [],
   "source": [
    "# train_transforms = A.Compose([\n",
    "#     # Dual transforms\n",
    "#     A.Resize(height=256, width=256, interpolation=3, always_apply=True),\n",
    "#     A.Affine(\n",
    "#         scale = (0.8, 1.2),\n",
    "#         rotate = (-360, 360),\n",
    "#         shear = (-20, 20),\n",
    "#         p = 0.5\n",
    "#     ),\n",
    "#     A.HorizontalFlip(p=0.5),\n",
    "#     A.VerticalFlip(p=0.5),\n",
    "#     # Image only transforms\n",
    "#     A.ColorJitter(\n",
    "#         brightness = 0.5,\n",
    "#         contrast = 0.5,\n",
    "#         saturation = 0.5,\n",
    "#         hue = 0,\n",
    "#         p = 0.5\n",
    "#     ),\n",
    "#     A.CLAHE(p=0.5),\n",
    "#     # A.Normalize(mean=(0.4456, 0.4436, 0.4018), std=(0.2220, 0.2154, 0.2298), p=1) # mean and std computed on this dataset.    \n",
    "# ])\n",
    "\n",
    "# val_transforms = A.Compose([\n",
    "#     A.Resize(height=256, width=256, interpolation=3, always_apply=True)"
   ]
  },
  {
   "cell_type": "code",
   "execution_count": 32,
   "metadata": {},
   "outputs": [],
   "source": [
    "transforms1 = A.Compose([\n",
    "    A.LongestMaxSize(max_size=224, interpolation=3, p=1.0),\n",
    "    A.PadIfNeeded(min_height=224, min_width=224, border_mode=0, value=0, mask_value=0, p=1.0),\n",
    "    \n",
    "    # Geometric\n",
    "    A.Affine(\n",
    "        scale = (0.8, 1.2),\n",
    "        rotate = (-360, 360),\n",
    "        shear = (-20, 20),\n",
    "        p = 0.5\n",
    "    ),\n",
    "    A.HorizontalFlip(p=0.5),\n",
    "    A.VerticalFlip(p=0.5),\n",
    "   \n",
    "    # Color\n",
    "    A.ColorJitter(\n",
    "        brightness = 0.7,\n",
    "        contrast = 0.7,\n",
    "        saturation = 0.7,\n",
    "        hue = 0.7,\n",
    "        p = 0.5\n",
    "    ),\n",
    "    A.CLAHE(p=0.5),\n",
    "    A.Normalize(mean=[0.485, 0.456, 0.406], std=[0.229, 0.224, 0.225], p=1.0) # normalization values the ResNet was trained to. torchvision.models.ResNet50_Weights.DEFAULT.transforms()\n",
    "])"
   ]
  },
  {
   "cell_type": "code",
   "execution_count": 33,
   "metadata": {},
   "outputs": [
    {
     "ename": "NameError",
     "evalue": "name 'image' is not defined",
     "output_type": "error",
     "traceback": [
      "\u001b[0;31m---------------------------------------------------------------------------\u001b[0m",
      "\u001b[0;31mNameError\u001b[0m                                 Traceback (most recent call last)",
      "Cell \u001b[0;32mIn[33], line 1\u001b[0m\n\u001b[0;32m----> 1\u001b[0m transformed_image \u001b[39m=\u001b[39m transforms1(image\u001b[39m=\u001b[39mimage)[\u001b[39m'\u001b[39m\u001b[39mimage\u001b[39m\u001b[39m'\u001b[39m]\n\u001b[1;32m      2\u001b[0m \u001b[39mprint\u001b[39m(transformed_image\u001b[39m.\u001b[39mshape)\n\u001b[1;32m      3\u001b[0m plt\u001b[39m.\u001b[39mimshow(transformed_image)\n",
      "\u001b[0;31mNameError\u001b[0m: name 'image' is not defined"
     ]
    }
   ],
   "source": [
    "transformed_image = transforms1(image=image)['image']\n",
    "print(transformed_image.shape)\n",
    "plt.imshow(transformed_image)\n",
    "plt.axis('off')\n",
    "plt.show()"
   ]
  },
  {
   "cell_type": "code",
   "execution_count": 31,
   "metadata": {},
   "outputs": [
    {
     "data": {
      "text/plain": [
       "(-2.117904, -0.3403921)"
      ]
     },
     "execution_count": 31,
     "metadata": {},
     "output_type": "execute_result"
    }
   ],
   "source": [
    "transformed_image.min(), transformed_image.max()"
   ]
  },
  {
   "cell_type": "code",
   "execution_count": 32,
   "metadata": {},
   "outputs": [
    {
     "data": {
      "text/plain": [
       "([0.485, 0.456, 0.406], [0.229, 0.224, 0.225])"
      ]
     },
     "execution_count": 32,
     "metadata": {},
     "output_type": "execute_result"
    }
   ],
   "source": [
    "resnet_transform_info = torchvision.models.ResNet50_Weights.DEFAULT.transforms()\n",
    "mean, std = resnet_transform_info.__dict__['mean'], resnet_transform_info.__dict__['std']\n",
    "\n",
    "mean, std"
   ]
  },
  {
   "attachments": {},
   "cell_type": "markdown",
   "metadata": {},
   "source": [
    "### Transform with different normalization paramters for the two encoders"
   ]
  },
  {
   "cell_type": "code",
   "execution_count": 2,
   "metadata": {},
   "outputs": [],
   "source": [
    "from src.transforms import CCTransforms"
   ]
  },
  {
   "cell_type": "code",
   "execution_count": 3,
   "metadata": {},
   "outputs": [
    {
     "data": {
      "text/plain": [
       "(512, 512, 3)"
      ]
     },
     "execution_count": 3,
     "metadata": {},
     "output_type": "execute_result"
    }
   ],
   "source": [
    "input = np.random.randint(0, 255, (512, 512, 3)).astype(np.uint8) # dummy image                       # NOTE: resizing with CV2 requires uint8!\n",
    "input.shape"
   ]
  },
  {
   "cell_type": "code",
   "execution_count": 4,
   "metadata": {},
   "outputs": [],
   "source": [
    "mytransforms = CCTransforms(encoder_type='clip')"
   ]
  },
  {
   "cell_type": "code",
   "execution_count": 5,
   "metadata": {},
   "outputs": [
    {
     "data": {
      "text/plain": [
       "torch.Size([3, 224, 224])"
      ]
     },
     "execution_count": 5,
     "metadata": {},
     "output_type": "execute_result"
    }
   ],
   "source": [
    "transformed = mytransforms.train_transforms(image=input)['image']\n",
    "transformed.shape"
   ]
  },
  {
   "cell_type": "code",
   "execution_count": 8,
   "metadata": {},
   "outputs": [
    {
     "data": {
      "text/plain": [
       "torch.Size([1, 3, 224, 224])"
      ]
     },
     "execution_count": 8,
     "metadata": {},
     "output_type": "execute_result"
    }
   ],
   "source": [
    "# Add batch dimension\n",
    "transformed_batch = transformed[None, ...]\n",
    "transformed_batch.shape"
   ]
  },
  {
   "cell_type": "code",
   "execution_count": 9,
   "metadata": {},
   "outputs": [
    {
     "data": {
      "text/plain": [
       "torch.Size([1, 512])"
      ]
     },
     "execution_count": 9,
     "metadata": {},
     "output_type": "execute_result"
    }
   ],
   "source": [
    "# CLIP\n",
    "model = transformers.CLIPModel.from_pretrained('openai/clip-vit-base-patch32')\n",
    "model = model.eval()\n",
    "outputs = model.get_image_features(pixel_values=transformed_batch)\n",
    "outputs.shape"
   ]
  },
  {
   "cell_type": "code",
   "execution_count": 10,
   "metadata": {},
   "outputs": [
    {
     "data": {
      "text/plain": [
       "torch.Size([1, 1000])"
      ]
     },
     "execution_count": 10,
     "metadata": {},
     "output_type": "execute_result"
    }
   ],
   "source": [
    "# ResNet\n",
    "# (using transforms with clip normalization just to test the pipeline)\n",
    "model = torchvision.models.resnet50(weights='IMAGENET1K_V2')\n",
    "model = model.eval()\n",
    "outputs = model(transformed_batch)\n",
    "outputs.shape"
   ]
  }
 ],
 "metadata": {
  "kernelspec": {
   "display_name": "clipclass",
   "language": "python",
   "name": "python3"
  },
  "language_info": {
   "codemirror_mode": {
    "name": "ipython",
    "version": 3
   },
   "file_extension": ".py",
   "mimetype": "text/x-python",
   "name": "python",
   "nbconvert_exporter": "python",
   "pygments_lexer": "ipython3",
   "version": "3.10.10"
  }
 },
 "nbformat": 4,
 "nbformat_minor": 2
}
