{
 "cells": [
  {
   "attachments": {},
   "cell_type": "markdown",
   "metadata": {},
   "source": [
    "# Exploration"
   ]
  },
  {
   "cell_type": "code",
   "execution_count": 1,
   "metadata": {},
   "outputs": [
    {
     "name": "stderr",
     "output_type": "stream",
     "text": [
      "/opt/conda/envs/clipclass/lib/python3.9/site-packages/tqdm/auto.py:21: TqdmWarning: IProgress not found. Please update jupyter and ipywidgets. See https://ipywidgets.readthedocs.io/en/stable/user_install.html\n",
      "  from .autonotebook import tqdm as notebook_tqdm\n"
     ]
    }
   ],
   "source": [
    "import os\n",
    "import pandas as pd\n",
    "import numpy as np\n",
    "import cv2\n",
    "import torch\n",
    "import torchvision\n",
    "import sklearn.model_selection\n",
    "from collections import Counter\n",
    "import matplotlib.pyplot as plt\n",
    "import albumentations as A\n",
    "import torchsummary\n",
    "import transformers\n",
    "\n",
    "os.chdir('/home/gpievanitrapletti/genai/multimodality/clip-classifier')"
   ]
  },
  {
   "attachments": {},
   "cell_type": "markdown",
   "metadata": {},
   "source": [
    "## Data"
   ]
  },
  {
   "cell_type": "code",
   "execution_count": 2,
   "metadata": {},
   "outputs": [
    {
     "data": {
      "text/html": [
       "<div>\n",
       "<style scoped>\n",
       "    .dataframe tbody tr th:only-of-type {\n",
       "        vertical-align: middle;\n",
       "    }\n",
       "\n",
       "    .dataframe tbody tr th {\n",
       "        vertical-align: top;\n",
       "    }\n",
       "\n",
       "    .dataframe thead th {\n",
       "        text-align: right;\n",
       "    }\n",
       "</style>\n",
       "<table border=\"1\" class=\"dataframe\">\n",
       "  <thead>\n",
       "    <tr style=\"text-align: right;\">\n",
       "      <th></th>\n",
       "      <th>filename</th>\n",
       "      <th>GT</th>\n",
       "    </tr>\n",
       "  </thead>\n",
       "  <tbody>\n",
       "    <tr>\n",
       "      <th>0</th>\n",
       "      <td>stairs_001</td>\n",
       "      <td>bent</td>\n",
       "    </tr>\n",
       "    <tr>\n",
       "      <th>1</th>\n",
       "      <td>stairs_002</td>\n",
       "      <td>straight</td>\n",
       "    </tr>\n",
       "    <tr>\n",
       "      <th>2</th>\n",
       "      <td>stairs_003</td>\n",
       "      <td>bent</td>\n",
       "    </tr>\n",
       "    <tr>\n",
       "      <th>3</th>\n",
       "      <td>stairs_004</td>\n",
       "      <td>angular</td>\n",
       "    </tr>\n",
       "    <tr>\n",
       "      <th>4</th>\n",
       "      <td>stairs_005</td>\n",
       "      <td>straight</td>\n",
       "    </tr>\n",
       "    <tr>\n",
       "      <th>...</th>\n",
       "      <td>...</td>\n",
       "      <td>...</td>\n",
       "    </tr>\n",
       "    <tr>\n",
       "      <th>192</th>\n",
       "      <td>stairs_193</td>\n",
       "      <td>angular</td>\n",
       "    </tr>\n",
       "    <tr>\n",
       "      <th>193</th>\n",
       "      <td>stairs_194</td>\n",
       "      <td>bent</td>\n",
       "    </tr>\n",
       "    <tr>\n",
       "      <th>194</th>\n",
       "      <td>stairs_195</td>\n",
       "      <td>angular</td>\n",
       "    </tr>\n",
       "    <tr>\n",
       "      <th>195</th>\n",
       "      <td>stairs_196</td>\n",
       "      <td>straight</td>\n",
       "    </tr>\n",
       "    <tr>\n",
       "      <th>196</th>\n",
       "      <td>stairs_197</td>\n",
       "      <td>bent</td>\n",
       "    </tr>\n",
       "  </tbody>\n",
       "</table>\n",
       "<p>197 rows × 2 columns</p>\n",
       "</div>"
      ],
      "text/plain": [
       "       filename        GT\n",
       "0    stairs_001      bent\n",
       "1    stairs_002  straight\n",
       "2    stairs_003      bent\n",
       "3    stairs_004   angular\n",
       "4    stairs_005  straight\n",
       "..          ...       ...\n",
       "192  stairs_193   angular\n",
       "193  stairs_194      bent\n",
       "194  stairs_195   angular\n",
       "195  stairs_196  straight\n",
       "196  stairs_197      bent\n",
       "\n",
       "[197 rows x 2 columns]"
      ]
     },
     "execution_count": 2,
     "metadata": {},
     "output_type": "execute_result"
    }
   ],
   "source": [
    "df = pd.read_csv('data/stairs_dataset_20231219/stairs_dataset_annotation.csv')\n",
    "df['GT'].replace({'curved': 'bent', 'spiral': 'bent'}, inplace=True)\n",
    "\n",
    "df"
   ]
  },
  {
   "cell_type": "code",
   "execution_count": 3,
   "metadata": {},
   "outputs": [
    {
     "data": {
      "text/plain": [
       "GT\n",
       "bent        74\n",
       "straight    64\n",
       "angular     59\n",
       "Name: count, dtype: int64"
      ]
     },
     "execution_count": 3,
     "metadata": {},
     "output_type": "execute_result"
    }
   ],
   "source": [
    "df.GT.value_counts()"
   ]
  },
  {
   "cell_type": "code",
   "execution_count": 4,
   "metadata": {},
   "outputs": [
    {
     "data": {
      "text/plain": [
       "5"
      ]
     },
     "execution_count": 4,
     "metadata": {},
     "output_type": "execute_result"
    }
   ],
   "source": [
    "IMAGE_PATH = 'data/stairs_dataset_20231219'\n",
    "filepaths = sorted([os.path.join(IMAGE_PATH, fp) for fp in os.listdir(IMAGE_PATH)])\n",
    "len(filepaths)"
   ]
  },
  {
   "attachments": {},
   "cell_type": "markdown",
   "metadata": {},
   "source": [
    "## Image sizes"
   ]
  },
  {
   "cell_type": "code",
   "execution_count": null,
   "metadata": {},
   "outputs": [],
   "source": [
    "# Inspect image size\n",
    "sizes = [cv2.imread(filepath).shape for filepath in filepaths]\n",
    "sorted_sizes = sorted(sizes, reverse=True)"
   ]
  },
  {
   "cell_type": "code",
   "execution_count": null,
   "metadata": {},
   "outputs": [
    {
     "data": {
      "text/plain": [
       "((5312, 2988, 3), (251, 200, 3))"
      ]
     },
     "execution_count": 7,
     "metadata": {},
     "output_type": "execute_result"
    }
   ],
   "source": [
    "# Larger and smaller images\n",
    "sorted_sizes[0], sorted_sizes[-1]"
   ]
  },
  {
   "attachments": {},
   "cell_type": "markdown",
   "metadata": {},
   "source": [
    "## CLIP instantiation"
   ]
  },
  {
   "cell_type": "code",
   "execution_count": 6,
   "metadata": {},
   "outputs": [],
   "source": [
    "clip_model = transformers.CLIPModel.from_pretrained('openai/clip-vit-base-patch32')\n",
    "clip_model = clip_model.eval()"
   ]
  },
  {
   "cell_type": "code",
   "execution_count": 7,
   "metadata": {},
   "outputs": [
    {
     "data": {
      "text/plain": [
       "(16, 3, 512, 512)"
      ]
     },
     "execution_count": 7,
     "metadata": {},
     "output_type": "execute_result"
    }
   ],
   "source": [
    "# Batch of dummy images\n",
    "input = np.random.randint(low=0, high=255, size=(16, 3, 512, 512))\n",
    "input.shape"
   ]
  },
  {
   "cell_type": "code",
   "execution_count": null,
   "metadata": {},
   "outputs": [],
   "source": [
    "processor = transformers.CLIPProcessor.from_pretrained(\"openai/clip-vit-base-patch32\")"
   ]
  },
  {
   "cell_type": "code",
   "execution_count": null,
   "metadata": {},
   "outputs": [
    {
     "data": {
      "text/plain": [
       "(transformers.tokenization_utils_base.BatchEncoding,\n",
       " 1,\n",
       " torch.Size([16, 3, 224, 224]))"
      ]
     },
     "execution_count": 43,
     "metadata": {},
     "output_type": "execute_result"
    }
   ],
   "source": [
    "inputs = processor(images=input, return_tensors='pt')\n",
    "\n",
    "type(inputs), len(list(inputs.items())), inputs['pixel_values'].shape"
   ]
  },
  {
   "cell_type": "code",
   "execution_count": null,
   "metadata": {},
   "outputs": [
    {
     "data": {
      "text/plain": [
       "torch.Size([16, 512])"
      ]
     },
     "execution_count": 14,
     "metadata": {},
     "output_type": "execute_result"
    }
   ],
   "source": [
    "# Processed input\n",
    "outputs = clip_model.get_image_features(pixel_values=inputs['pixel_values'])\n",
    "\n",
    "outputs.shape"
   ]
  },
  {
   "cell_type": "code",
   "execution_count": null,
   "metadata": {},
   "outputs": [
    {
     "data": {
      "text/plain": [
       "torch.Size([16, 512])"
      ]
     },
     "execution_count": 15,
     "metadata": {},
     "output_type": "execute_result"
    }
   ],
   "source": [
    "# Not processed input\n",
    "v = np.random.randint(low=0, high=255, size=(16, 3, 224, 224))\n",
    "v = torch.tensor(v)\n",
    "outputs2 = clip_model.get_image_features(pixel_values=v)\n",
    "outputs2.shape"
   ]
  },
  {
   "cell_type": "code",
   "execution_count": null,
   "metadata": {},
   "outputs": [
    {
     "data": {
      "text/plain": [
       "tensor(False)"
      ]
     },
     "execution_count": 16,
     "metadata": {},
     "output_type": "execute_result"
    }
   ],
   "source": [
    "torch.all(outputs == outputs2)"
   ]
  },
  {
   "cell_type": "code",
   "execution_count": null,
   "metadata": {},
   "outputs": [],
   "source": [
    "texts = [\n",
    "    'Three Rings for the Elven-kings under the sky',\n",
    "    'Seven for the Dwarf-lords in their halls of stone',\n",
    "    'Nine for Mortal Men doomed to die'\n",
    "]"
   ]
  },
  {
   "cell_type": "code",
   "execution_count": null,
   "metadata": {},
   "outputs": [
    {
     "data": {
      "text/plain": [
       "{'input_ids': tensor([[49406,  2097,  5751,   556,   518,   544,  1638,   268,  4232,  1798,\n",
       "           518,  2390, 49407],\n",
       "        [49406,  5757,   556,   518, 22643,   268, 14969,   530,   911, 18052,\n",
       "           539,  2441, 49407],\n",
       "        [49406,  7330,   556, 14680,  1656, 33251,   531,  2082, 49407, 49407,\n",
       "         49407, 49407, 49407]]), 'attention_mask': tensor([[1, 1, 1, 1, 1, 1, 1, 1, 1, 1, 1, 1, 1],\n",
       "        [1, 1, 1, 1, 1, 1, 1, 1, 1, 1, 1, 1, 1],\n",
       "        [1, 1, 1, 1, 1, 1, 1, 1, 1, 0, 0, 0, 0]])}"
      ]
     },
     "execution_count": 30,
     "metadata": {},
     "output_type": "execute_result"
    }
   ],
   "source": [
    "text_inputs = processor(text=texts, return_tensors='pt', padding=True)\n",
    "\n",
    "text_inputs"
   ]
  },
  {
   "cell_type": "code",
   "execution_count": null,
   "metadata": {},
   "outputs": [
    {
     "data": {
      "text/plain": [
       "torch.Size([3, 512])"
      ]
     },
     "execution_count": 34,
     "metadata": {},
     "output_type": "execute_result"
    }
   ],
   "source": [
    "text_embeddings = clip_model.get_text_features(\n",
    "    input_ids=text_inputs['input_ids'],\n",
    "    attention_mask=text_inputs['attention_mask'],    \n",
    ")\n",
    "\n",
    "text_embeddings.shape"
   ]
  },
  {
   "cell_type": "code",
   "execution_count": 8,
   "metadata": {},
   "outputs": [],
   "source": [
    "# Test tokenizer\n",
    "processor = transformers.CLIPProcessor.from_pretrained(\"openai/clip-vit-base-patch32\")"
   ]
  },
  {
   "cell_type": "code",
   "execution_count": 9,
   "metadata": {},
   "outputs": [
    {
     "data": {
      "text/plain": [
       "{'input_ids': [49406, 530, 320, 5341, 530, 518, 2461, 997, 8867, 320, 23207, 269, 49407], 'attention_mask': [1, 1, 1, 1, 1, 1, 1, 1, 1, 1, 1, 1, 1]}"
      ]
     },
     "execution_count": 9,
     "metadata": {},
     "output_type": "execute_result"
    }
   ],
   "source": [
    "text = 'In a hole in the ground there lived a Hobbit.'\n",
    "processor(text=text)"
   ]
  },
  {
   "cell_type": "code",
   "execution_count": 10,
   "metadata": {},
   "outputs": [],
   "source": [
    "text = '''Physically, hobbits are typically around three to four feet tall, with round faces, large, expressive eyes, and a stocky build. They have curly hair, often in earthy colors like brown or auburn, and they usually go about barefoot. Their feet are renowned for their remarkable resilience and hairiness, a feature that helps them blend in with the lush, fertile landscapes of their homeland. Hobbits reside primarily in a region called the Shire, a picturesque and idyllic countryside setting that reflects their love for comfort and tranquility. Their houses are built into the hillsides, known as \"holes,\" and are cozy, warm, and filled with an abundance of good food and drink. Hobbits are particularly fond of a hearty meal, and they take pride in their culinary skills. Meals are often accompanied by gatherings with friends and family, and there's a strong emphasis on hospitality within hobbit culture.'''"
   ]
  },
  {
   "cell_type": "code",
   "execution_count": 11,
   "metadata": {},
   "outputs": [
    {
     "name": "stderr",
     "output_type": "stream",
     "text": [
      "Token indices sequence length is longer than the specified maximum sequence length for this model (180 > 77). Running this sequence through the model will result in indexing errors\n"
     ]
    },
    {
     "data": {
      "text/plain": [
       "torch.Size([1, 180])"
      ]
     },
     "execution_count": 11,
     "metadata": {},
     "output_type": "execute_result"
    }
   ],
   "source": [
    "processed = processor(text=text, return_tensors='pt', padding=True)\n",
    "processed['input_ids'].shape"
   ]
  },
  {
   "cell_type": "code",
   "execution_count": 13,
   "metadata": {},
   "outputs": [
    {
     "data": {
      "text/plain": [
       "['__call__',\n",
       " '__class__',\n",
       " '__delattr__',\n",
       " '__dict__',\n",
       " '__dir__',\n",
       " '__doc__',\n",
       " '__eq__',\n",
       " '__format__',\n",
       " '__ge__',\n",
       " '__getattribute__',\n",
       " '__gt__',\n",
       " '__hash__',\n",
       " '__init__',\n",
       " '__init_subclass__',\n",
       " '__le__',\n",
       " '__lt__',\n",
       " '__module__',\n",
       " '__ne__',\n",
       " '__new__',\n",
       " '__reduce__',\n",
       " '__reduce_ex__',\n",
       " '__repr__',\n",
       " '__setattr__',\n",
       " '__sizeof__',\n",
       " '__str__',\n",
       " '__subclasshook__',\n",
       " '__weakref__',\n",
       " '_auto_class',\n",
       " '_create_repo',\n",
       " '_get_arguments_from_pretrained',\n",
       " '_get_files_timestamps',\n",
       " '_upload_modified_files',\n",
       " 'attributes',\n",
       " 'batch_decode',\n",
       " 'decode',\n",
       " 'feature_extractor',\n",
       " 'feature_extractor_class',\n",
       " 'from_pretrained',\n",
       " 'image_processor',\n",
       " 'image_processor_class',\n",
       " 'model_input_names',\n",
       " 'push_to_hub',\n",
       " 'register_for_auto_class',\n",
       " 'save_pretrained',\n",
       " 'tokenizer',\n",
       " 'tokenizer_class']"
      ]
     },
     "execution_count": 13,
     "metadata": {},
     "output_type": "execute_result"
    }
   ],
   "source": [
    "dir(processor)"
   ]
  },
  {
   "cell_type": "code",
   "execution_count": 12,
   "metadata": {},
   "outputs": [
    {
     "ename": "RuntimeError",
     "evalue": "The size of tensor a (180) must match the size of tensor b (77) at non-singleton dimension 1",
     "output_type": "error",
     "traceback": [
      "\u001b[0;31m---------------------------------------------------------------------------\u001b[0m",
      "\u001b[0;31mRuntimeError\u001b[0m                              Traceback (most recent call last)",
      "Cell \u001b[0;32mIn[12], line 1\u001b[0m\n\u001b[0;32m----> 1\u001b[0m text_embeddings \u001b[38;5;241m=\u001b[39m \u001b[43mclip_model\u001b[49m\u001b[38;5;241;43m.\u001b[39;49m\u001b[43mget_text_features\u001b[49m\u001b[43m(\u001b[49m\n\u001b[1;32m      2\u001b[0m \u001b[43m    \u001b[49m\u001b[43minput_ids\u001b[49m\u001b[38;5;241;43m=\u001b[39;49m\u001b[43mprocessed\u001b[49m\u001b[43m[\u001b[49m\u001b[38;5;124;43m'\u001b[39;49m\u001b[38;5;124;43minput_ids\u001b[39;49m\u001b[38;5;124;43m'\u001b[39;49m\u001b[43m]\u001b[49m\u001b[43m,\u001b[49m\n\u001b[1;32m      3\u001b[0m \u001b[43m    \u001b[49m\u001b[43mattention_mask\u001b[49m\u001b[38;5;241;43m=\u001b[39;49m\u001b[43mprocessed\u001b[49m\u001b[43m[\u001b[49m\u001b[38;5;124;43m'\u001b[39;49m\u001b[38;5;124;43mattention_mask\u001b[39;49m\u001b[38;5;124;43m'\u001b[39;49m\u001b[43m]\u001b[49m\u001b[43m,\u001b[49m\u001b[43m    \u001b[49m\n\u001b[1;32m      4\u001b[0m \u001b[43m)\u001b[49m\n",
      "File \u001b[0;32m/opt/conda/envs/clipclass/lib/python3.9/site-packages/transformers/models/clip/modeling_clip.py:994\u001b[0m, in \u001b[0;36mCLIPModel.get_text_features\u001b[0;34m(self, input_ids, attention_mask, position_ids, output_attentions, output_hidden_states, return_dict)\u001b[0m\n\u001b[1;32m    989\u001b[0m output_hidden_states \u001b[38;5;241m=\u001b[39m (\n\u001b[1;32m    990\u001b[0m     output_hidden_states \u001b[38;5;28;01mif\u001b[39;00m output_hidden_states \u001b[38;5;129;01mis\u001b[39;00m \u001b[38;5;129;01mnot\u001b[39;00m \u001b[38;5;28;01mNone\u001b[39;00m \u001b[38;5;28;01melse\u001b[39;00m \u001b[38;5;28mself\u001b[39m\u001b[38;5;241m.\u001b[39mconfig\u001b[38;5;241m.\u001b[39moutput_hidden_states\n\u001b[1;32m    991\u001b[0m )\n\u001b[1;32m    992\u001b[0m return_dict \u001b[38;5;241m=\u001b[39m return_dict \u001b[38;5;28;01mif\u001b[39;00m return_dict \u001b[38;5;129;01mis\u001b[39;00m \u001b[38;5;129;01mnot\u001b[39;00m \u001b[38;5;28;01mNone\u001b[39;00m \u001b[38;5;28;01melse\u001b[39;00m \u001b[38;5;28mself\u001b[39m\u001b[38;5;241m.\u001b[39mconfig\u001b[38;5;241m.\u001b[39muse_return_dict\n\u001b[0;32m--> 994\u001b[0m text_outputs \u001b[38;5;241m=\u001b[39m \u001b[38;5;28;43mself\u001b[39;49m\u001b[38;5;241;43m.\u001b[39;49m\u001b[43mtext_model\u001b[49m\u001b[43m(\u001b[49m\n\u001b[1;32m    995\u001b[0m \u001b[43m    \u001b[49m\u001b[43minput_ids\u001b[49m\u001b[38;5;241;43m=\u001b[39;49m\u001b[43minput_ids\u001b[49m\u001b[43m,\u001b[49m\n\u001b[1;32m    996\u001b[0m \u001b[43m    \u001b[49m\u001b[43mattention_mask\u001b[49m\u001b[38;5;241;43m=\u001b[39;49m\u001b[43mattention_mask\u001b[49m\u001b[43m,\u001b[49m\n\u001b[1;32m    997\u001b[0m \u001b[43m    \u001b[49m\u001b[43mposition_ids\u001b[49m\u001b[38;5;241;43m=\u001b[39;49m\u001b[43mposition_ids\u001b[49m\u001b[43m,\u001b[49m\n\u001b[1;32m    998\u001b[0m \u001b[43m    \u001b[49m\u001b[43moutput_attentions\u001b[49m\u001b[38;5;241;43m=\u001b[39;49m\u001b[43moutput_attentions\u001b[49m\u001b[43m,\u001b[49m\n\u001b[1;32m    999\u001b[0m \u001b[43m    \u001b[49m\u001b[43moutput_hidden_states\u001b[49m\u001b[38;5;241;43m=\u001b[39;49m\u001b[43moutput_hidden_states\u001b[49m\u001b[43m,\u001b[49m\n\u001b[1;32m   1000\u001b[0m \u001b[43m    \u001b[49m\u001b[43mreturn_dict\u001b[49m\u001b[38;5;241;43m=\u001b[39;49m\u001b[43mreturn_dict\u001b[49m\u001b[43m,\u001b[49m\n\u001b[1;32m   1001\u001b[0m \u001b[43m\u001b[49m\u001b[43m)\u001b[49m\n\u001b[1;32m   1003\u001b[0m pooled_output \u001b[38;5;241m=\u001b[39m text_outputs[\u001b[38;5;241m1\u001b[39m]\n\u001b[1;32m   1004\u001b[0m text_features \u001b[38;5;241m=\u001b[39m \u001b[38;5;28mself\u001b[39m\u001b[38;5;241m.\u001b[39mtext_projection(pooled_output)\n",
      "File \u001b[0;32m/opt/conda/envs/clipclass/lib/python3.9/site-packages/torch/nn/modules/module.py:1518\u001b[0m, in \u001b[0;36mModule._wrapped_call_impl\u001b[0;34m(self, *args, **kwargs)\u001b[0m\n\u001b[1;32m   1516\u001b[0m     \u001b[38;5;28;01mreturn\u001b[39;00m \u001b[38;5;28mself\u001b[39m\u001b[38;5;241m.\u001b[39m_compiled_call_impl(\u001b[38;5;241m*\u001b[39margs, \u001b[38;5;241m*\u001b[39m\u001b[38;5;241m*\u001b[39mkwargs)  \u001b[38;5;66;03m# type: ignore[misc]\u001b[39;00m\n\u001b[1;32m   1517\u001b[0m \u001b[38;5;28;01melse\u001b[39;00m:\n\u001b[0;32m-> 1518\u001b[0m     \u001b[38;5;28;01mreturn\u001b[39;00m \u001b[38;5;28;43mself\u001b[39;49m\u001b[38;5;241;43m.\u001b[39;49m\u001b[43m_call_impl\u001b[49m\u001b[43m(\u001b[49m\u001b[38;5;241;43m*\u001b[39;49m\u001b[43margs\u001b[49m\u001b[43m,\u001b[49m\u001b[43m \u001b[49m\u001b[38;5;241;43m*\u001b[39;49m\u001b[38;5;241;43m*\u001b[39;49m\u001b[43mkwargs\u001b[49m\u001b[43m)\u001b[49m\n",
      "File \u001b[0;32m/opt/conda/envs/clipclass/lib/python3.9/site-packages/torch/nn/modules/module.py:1527\u001b[0m, in \u001b[0;36mModule._call_impl\u001b[0;34m(self, *args, **kwargs)\u001b[0m\n\u001b[1;32m   1522\u001b[0m \u001b[38;5;66;03m# If we don't have any hooks, we want to skip the rest of the logic in\u001b[39;00m\n\u001b[1;32m   1523\u001b[0m \u001b[38;5;66;03m# this function, and just call forward.\u001b[39;00m\n\u001b[1;32m   1524\u001b[0m \u001b[38;5;28;01mif\u001b[39;00m \u001b[38;5;129;01mnot\u001b[39;00m (\u001b[38;5;28mself\u001b[39m\u001b[38;5;241m.\u001b[39m_backward_hooks \u001b[38;5;129;01mor\u001b[39;00m \u001b[38;5;28mself\u001b[39m\u001b[38;5;241m.\u001b[39m_backward_pre_hooks \u001b[38;5;129;01mor\u001b[39;00m \u001b[38;5;28mself\u001b[39m\u001b[38;5;241m.\u001b[39m_forward_hooks \u001b[38;5;129;01mor\u001b[39;00m \u001b[38;5;28mself\u001b[39m\u001b[38;5;241m.\u001b[39m_forward_pre_hooks\n\u001b[1;32m   1525\u001b[0m         \u001b[38;5;129;01mor\u001b[39;00m _global_backward_pre_hooks \u001b[38;5;129;01mor\u001b[39;00m _global_backward_hooks\n\u001b[1;32m   1526\u001b[0m         \u001b[38;5;129;01mor\u001b[39;00m _global_forward_hooks \u001b[38;5;129;01mor\u001b[39;00m _global_forward_pre_hooks):\n\u001b[0;32m-> 1527\u001b[0m     \u001b[38;5;28;01mreturn\u001b[39;00m \u001b[43mforward_call\u001b[49m\u001b[43m(\u001b[49m\u001b[38;5;241;43m*\u001b[39;49m\u001b[43margs\u001b[49m\u001b[43m,\u001b[49m\u001b[43m \u001b[49m\u001b[38;5;241;43m*\u001b[39;49m\u001b[38;5;241;43m*\u001b[39;49m\u001b[43mkwargs\u001b[49m\u001b[43m)\u001b[49m\n\u001b[1;32m   1529\u001b[0m \u001b[38;5;28;01mtry\u001b[39;00m:\n\u001b[1;32m   1530\u001b[0m     result \u001b[38;5;241m=\u001b[39m \u001b[38;5;28;01mNone\u001b[39;00m\n",
      "File \u001b[0;32m/opt/conda/envs/clipclass/lib/python3.9/site-packages/transformers/models/clip/modeling_clip.py:691\u001b[0m, in \u001b[0;36mCLIPTextTransformer.forward\u001b[0;34m(self, input_ids, attention_mask, position_ids, output_attentions, output_hidden_states, return_dict)\u001b[0m\n\u001b[1;32m    688\u001b[0m input_shape \u001b[38;5;241m=\u001b[39m input_ids\u001b[38;5;241m.\u001b[39msize()\n\u001b[1;32m    689\u001b[0m input_ids \u001b[38;5;241m=\u001b[39m input_ids\u001b[38;5;241m.\u001b[39mview(\u001b[38;5;241m-\u001b[39m\u001b[38;5;241m1\u001b[39m, input_shape[\u001b[38;5;241m-\u001b[39m\u001b[38;5;241m1\u001b[39m])\n\u001b[0;32m--> 691\u001b[0m hidden_states \u001b[38;5;241m=\u001b[39m \u001b[38;5;28;43mself\u001b[39;49m\u001b[38;5;241;43m.\u001b[39;49m\u001b[43membeddings\u001b[49m\u001b[43m(\u001b[49m\u001b[43minput_ids\u001b[49m\u001b[38;5;241;43m=\u001b[39;49m\u001b[43minput_ids\u001b[49m\u001b[43m,\u001b[49m\u001b[43m \u001b[49m\u001b[43mposition_ids\u001b[49m\u001b[38;5;241;43m=\u001b[39;49m\u001b[43mposition_ids\u001b[49m\u001b[43m)\u001b[49m\n\u001b[1;32m    693\u001b[0m \u001b[38;5;66;03m# CLIP's text model uses causal mask, prepare it here.\u001b[39;00m\n\u001b[1;32m    694\u001b[0m \u001b[38;5;66;03m# https://github.com/openai/CLIP/blob/cfcffb90e69f37bf2ff1e988237a0fbe41f33c04/clip/model.py#L324\u001b[39;00m\n\u001b[1;32m    695\u001b[0m causal_attention_mask \u001b[38;5;241m=\u001b[39m _create_4d_causal_attention_mask(\n\u001b[1;32m    696\u001b[0m     input_shape, hidden_states\u001b[38;5;241m.\u001b[39mdtype, device\u001b[38;5;241m=\u001b[39mhidden_states\u001b[38;5;241m.\u001b[39mdevice\n\u001b[1;32m    697\u001b[0m )\n",
      "File \u001b[0;32m/opt/conda/envs/clipclass/lib/python3.9/site-packages/torch/nn/modules/module.py:1518\u001b[0m, in \u001b[0;36mModule._wrapped_call_impl\u001b[0;34m(self, *args, **kwargs)\u001b[0m\n\u001b[1;32m   1516\u001b[0m     \u001b[38;5;28;01mreturn\u001b[39;00m \u001b[38;5;28mself\u001b[39m\u001b[38;5;241m.\u001b[39m_compiled_call_impl(\u001b[38;5;241m*\u001b[39margs, \u001b[38;5;241m*\u001b[39m\u001b[38;5;241m*\u001b[39mkwargs)  \u001b[38;5;66;03m# type: ignore[misc]\u001b[39;00m\n\u001b[1;32m   1517\u001b[0m \u001b[38;5;28;01melse\u001b[39;00m:\n\u001b[0;32m-> 1518\u001b[0m     \u001b[38;5;28;01mreturn\u001b[39;00m \u001b[38;5;28;43mself\u001b[39;49m\u001b[38;5;241;43m.\u001b[39;49m\u001b[43m_call_impl\u001b[49m\u001b[43m(\u001b[49m\u001b[38;5;241;43m*\u001b[39;49m\u001b[43margs\u001b[49m\u001b[43m,\u001b[49m\u001b[43m \u001b[49m\u001b[38;5;241;43m*\u001b[39;49m\u001b[38;5;241;43m*\u001b[39;49m\u001b[43mkwargs\u001b[49m\u001b[43m)\u001b[49m\n",
      "File \u001b[0;32m/opt/conda/envs/clipclass/lib/python3.9/site-packages/torch/nn/modules/module.py:1527\u001b[0m, in \u001b[0;36mModule._call_impl\u001b[0;34m(self, *args, **kwargs)\u001b[0m\n\u001b[1;32m   1522\u001b[0m \u001b[38;5;66;03m# If we don't have any hooks, we want to skip the rest of the logic in\u001b[39;00m\n\u001b[1;32m   1523\u001b[0m \u001b[38;5;66;03m# this function, and just call forward.\u001b[39;00m\n\u001b[1;32m   1524\u001b[0m \u001b[38;5;28;01mif\u001b[39;00m \u001b[38;5;129;01mnot\u001b[39;00m (\u001b[38;5;28mself\u001b[39m\u001b[38;5;241m.\u001b[39m_backward_hooks \u001b[38;5;129;01mor\u001b[39;00m \u001b[38;5;28mself\u001b[39m\u001b[38;5;241m.\u001b[39m_backward_pre_hooks \u001b[38;5;129;01mor\u001b[39;00m \u001b[38;5;28mself\u001b[39m\u001b[38;5;241m.\u001b[39m_forward_hooks \u001b[38;5;129;01mor\u001b[39;00m \u001b[38;5;28mself\u001b[39m\u001b[38;5;241m.\u001b[39m_forward_pre_hooks\n\u001b[1;32m   1525\u001b[0m         \u001b[38;5;129;01mor\u001b[39;00m _global_backward_pre_hooks \u001b[38;5;129;01mor\u001b[39;00m _global_backward_hooks\n\u001b[1;32m   1526\u001b[0m         \u001b[38;5;129;01mor\u001b[39;00m _global_forward_hooks \u001b[38;5;129;01mor\u001b[39;00m _global_forward_pre_hooks):\n\u001b[0;32m-> 1527\u001b[0m     \u001b[38;5;28;01mreturn\u001b[39;00m \u001b[43mforward_call\u001b[49m\u001b[43m(\u001b[49m\u001b[38;5;241;43m*\u001b[39;49m\u001b[43margs\u001b[49m\u001b[43m,\u001b[49m\u001b[43m \u001b[49m\u001b[38;5;241;43m*\u001b[39;49m\u001b[38;5;241;43m*\u001b[39;49m\u001b[43mkwargs\u001b[49m\u001b[43m)\u001b[49m\n\u001b[1;32m   1529\u001b[0m \u001b[38;5;28;01mtry\u001b[39;00m:\n\u001b[1;32m   1530\u001b[0m     result \u001b[38;5;241m=\u001b[39m \u001b[38;5;28;01mNone\u001b[39;00m\n",
      "File \u001b[0;32m/opt/conda/envs/clipclass/lib/python3.9/site-packages/transformers/models/clip/modeling_clip.py:219\u001b[0m, in \u001b[0;36mCLIPTextEmbeddings.forward\u001b[0;34m(self, input_ids, position_ids, inputs_embeds)\u001b[0m\n\u001b[1;32m    216\u001b[0m     inputs_embeds \u001b[38;5;241m=\u001b[39m \u001b[38;5;28mself\u001b[39m\u001b[38;5;241m.\u001b[39mtoken_embedding(input_ids)\n\u001b[1;32m    218\u001b[0m position_embeddings \u001b[38;5;241m=\u001b[39m \u001b[38;5;28mself\u001b[39m\u001b[38;5;241m.\u001b[39mposition_embedding(position_ids)\n\u001b[0;32m--> 219\u001b[0m embeddings \u001b[38;5;241m=\u001b[39m \u001b[43minputs_embeds\u001b[49m\u001b[43m \u001b[49m\u001b[38;5;241;43m+\u001b[39;49m\u001b[43m \u001b[49m\u001b[43mposition_embeddings\u001b[49m\n\u001b[1;32m    221\u001b[0m \u001b[38;5;28;01mreturn\u001b[39;00m embeddings\n",
      "\u001b[0;31mRuntimeError\u001b[0m: The size of tensor a (180) must match the size of tensor b (77) at non-singleton dimension 1"
     ]
    }
   ],
   "source": [
    "text_embeddings = clip_model.get_text_features(\n",
    "    input_ids=processed['input_ids'],\n",
    "    attention_mask=processed['attention_mask'],    \n",
    ")"
   ]
  },
  {
   "cell_type": "code",
   "execution_count": null,
   "metadata": {},
   "outputs": [],
   "source": []
  },
  {
   "cell_type": "code",
   "execution_count": null,
   "metadata": {},
   "outputs": [],
   "source": []
  },
  {
   "attachments": {},
   "cell_type": "markdown",
   "metadata": {},
   "source": [
    "## ResNet instantiation"
   ]
  },
  {
   "cell_type": "code",
   "execution_count": 16,
   "metadata": {},
   "outputs": [],
   "source": [
    "model = torchvision.models.resnet50(weights='IMAGENET1K_V2')\n",
    "# model = torch.hub.load(\"pytorch/vision\", \"resnet50\", weights=\"IMAGENET1K_V2\")\n",
    "model = model.eval()"
   ]
  },
  {
   "cell_type": "code",
   "execution_count": 14,
   "metadata": {},
   "outputs": [
    {
     "data": {
      "text/plain": [
       "ImageClassification(\n",
       "    crop_size=[224]\n",
       "    resize_size=[232]\n",
       "    mean=[0.485, 0.456, 0.406]\n",
       "    std=[0.229, 0.224, 0.225]\n",
       "    interpolation=InterpolationMode.BILINEAR\n",
       ")"
      ]
     },
     "execution_count": 14,
     "metadata": {},
     "output_type": "execute_result"
    }
   ],
   "source": [
    "# Transforms applied by the model\n",
    "torchvision.models.ResNet50_Weights.DEFAULT.transforms()"
   ]
  },
  {
   "cell_type": "code",
   "execution_count": null,
   "metadata": {},
   "outputs": [],
   "source": [
    "# The inference transforms are available at ResNet50_Weights.IMAGENET1K_V2.transforms and perform \n",
    "# the following preprocessing operations: Accepts PIL.Image, batched (B, C, H, W) and single (C, H, W) \n",
    "# image torch.Tensor objects. The images are resized to resize_size=[232] using \n",
    "# interpolation=InterpolationMode.BILINEAR, followed by a central crop of crop_size=[224]. Finally \n",
    "# the values are first rescaled to [0.0, 1.0] and then normalized using mean=[0.485, 0.456, 0.406] \n",
    "# and std=[0.229, 0.224, 0.225].\n",
    "# https://pytorch.org/vision/main/models/generated/torchvision.models.resnet50.html"
   ]
  },
  {
   "cell_type": "code",
   "execution_count": 15,
   "metadata": {},
   "outputs": [],
   "source": [
    "# Random data\n",
    "input = torch.randn((16, 3, 512, 512))"
   ]
  },
  {
   "cell_type": "code",
   "execution_count": 16,
   "metadata": {},
   "outputs": [
    {
     "data": {
      "text/plain": [
       "torch.Size([16, 1000])"
      ]
     },
     "execution_count": 16,
     "metadata": {},
     "output_type": "execute_result"
    }
   ],
   "source": [
    "output = model(input)\n",
    "output.shape\n",
    "\n",
    "# torch.Size([16, 1000])"
   ]
  },
  {
   "cell_type": "code",
   "execution_count": 17,
   "metadata": {},
   "outputs": [],
   "source": [
    "# # How output changes if I remove the last layer\n",
    "# # MAKES NOTEBOOK CRASH ON LIGHTNING\n",
    "# n_layers_to_prune = 1\n",
    "# pruned_model = torch.nn.Sequential(*list(model.children())[:-n_layers_to_prune])\n",
    "# pruned_model = pruned_model.eval()\n",
    "# output = pruned_model(input)\n",
    "# output.shape"
   ]
  },
  {
   "cell_type": "code",
   "execution_count": 15,
   "metadata": {},
   "outputs": [
    {
     "name": "stdout",
     "output_type": "stream",
     "text": [
      "----------------------------------------------------------------\n",
      "        Layer (type)               Output Shape         Param #\n",
      "================================================================\n",
      "            Conv2d-1          [1, 64, 112, 112]           9,408\n",
      "       BatchNorm2d-2          [1, 64, 112, 112]             128\n",
      "              ReLU-3          [1, 64, 112, 112]               0\n",
      "         MaxPool2d-4            [1, 64, 56, 56]               0\n",
      "            Conv2d-5            [1, 64, 56, 56]           4,096\n",
      "       BatchNorm2d-6            [1, 64, 56, 56]             128\n",
      "              ReLU-7            [1, 64, 56, 56]               0\n",
      "            Conv2d-8            [1, 64, 56, 56]          36,864\n",
      "       BatchNorm2d-9            [1, 64, 56, 56]             128\n",
      "             ReLU-10            [1, 64, 56, 56]               0\n",
      "           Conv2d-11           [1, 256, 56, 56]          16,384\n",
      "      BatchNorm2d-12           [1, 256, 56, 56]             512\n",
      "           Conv2d-13           [1, 256, 56, 56]          16,384\n",
      "      BatchNorm2d-14           [1, 256, 56, 56]             512\n",
      "             ReLU-15           [1, 256, 56, 56]               0\n",
      "       Bottleneck-16           [1, 256, 56, 56]               0\n",
      "           Conv2d-17            [1, 64, 56, 56]          16,384\n",
      "      BatchNorm2d-18            [1, 64, 56, 56]             128\n",
      "             ReLU-19            [1, 64, 56, 56]               0\n",
      "           Conv2d-20            [1, 64, 56, 56]          36,864\n",
      "      BatchNorm2d-21            [1, 64, 56, 56]             128\n",
      "             ReLU-22            [1, 64, 56, 56]               0\n",
      "           Conv2d-23           [1, 256, 56, 56]          16,384\n",
      "      BatchNorm2d-24           [1, 256, 56, 56]             512\n",
      "             ReLU-25           [1, 256, 56, 56]               0\n",
      "       Bottleneck-26           [1, 256, 56, 56]               0\n",
      "           Conv2d-27            [1, 64, 56, 56]          16,384\n",
      "      BatchNorm2d-28            [1, 64, 56, 56]             128\n",
      "             ReLU-29            [1, 64, 56, 56]               0\n",
      "           Conv2d-30            [1, 64, 56, 56]          36,864\n",
      "      BatchNorm2d-31            [1, 64, 56, 56]             128\n",
      "             ReLU-32            [1, 64, 56, 56]               0\n",
      "           Conv2d-33           [1, 256, 56, 56]          16,384\n",
      "      BatchNorm2d-34           [1, 256, 56, 56]             512\n",
      "             ReLU-35           [1, 256, 56, 56]               0\n",
      "       Bottleneck-36           [1, 256, 56, 56]               0\n",
      "           Conv2d-37           [1, 128, 56, 56]          32,768\n",
      "      BatchNorm2d-38           [1, 128, 56, 56]             256\n",
      "             ReLU-39           [1, 128, 56, 56]               0\n",
      "           Conv2d-40           [1, 128, 28, 28]         147,456\n",
      "      BatchNorm2d-41           [1, 128, 28, 28]             256\n",
      "             ReLU-42           [1, 128, 28, 28]               0\n",
      "           Conv2d-43           [1, 512, 28, 28]          65,536\n",
      "      BatchNorm2d-44           [1, 512, 28, 28]           1,024\n",
      "           Conv2d-45           [1, 512, 28, 28]         131,072\n",
      "      BatchNorm2d-46           [1, 512, 28, 28]           1,024\n",
      "             ReLU-47           [1, 512, 28, 28]               0\n",
      "       Bottleneck-48           [1, 512, 28, 28]               0\n",
      "           Conv2d-49           [1, 128, 28, 28]          65,536\n",
      "      BatchNorm2d-50           [1, 128, 28, 28]             256\n",
      "             ReLU-51           [1, 128, 28, 28]               0\n",
      "           Conv2d-52           [1, 128, 28, 28]         147,456\n",
      "      BatchNorm2d-53           [1, 128, 28, 28]             256\n",
      "             ReLU-54           [1, 128, 28, 28]               0\n",
      "           Conv2d-55           [1, 512, 28, 28]          65,536\n",
      "      BatchNorm2d-56           [1, 512, 28, 28]           1,024\n",
      "             ReLU-57           [1, 512, 28, 28]               0\n",
      "       Bottleneck-58           [1, 512, 28, 28]               0\n",
      "           Conv2d-59           [1, 128, 28, 28]          65,536\n",
      "      BatchNorm2d-60           [1, 128, 28, 28]             256\n",
      "             ReLU-61           [1, 128, 28, 28]               0\n",
      "           Conv2d-62           [1, 128, 28, 28]         147,456\n",
      "      BatchNorm2d-63           [1, 128, 28, 28]             256\n",
      "             ReLU-64           [1, 128, 28, 28]               0\n",
      "           Conv2d-65           [1, 512, 28, 28]          65,536\n",
      "      BatchNorm2d-66           [1, 512, 28, 28]           1,024\n",
      "             ReLU-67           [1, 512, 28, 28]               0\n",
      "       Bottleneck-68           [1, 512, 28, 28]               0\n",
      "           Conv2d-69           [1, 128, 28, 28]          65,536\n",
      "      BatchNorm2d-70           [1, 128, 28, 28]             256\n",
      "             ReLU-71           [1, 128, 28, 28]               0\n",
      "           Conv2d-72           [1, 128, 28, 28]         147,456\n",
      "      BatchNorm2d-73           [1, 128, 28, 28]             256\n",
      "             ReLU-74           [1, 128, 28, 28]               0\n",
      "           Conv2d-75           [1, 512, 28, 28]          65,536\n",
      "      BatchNorm2d-76           [1, 512, 28, 28]           1,024\n",
      "             ReLU-77           [1, 512, 28, 28]               0\n",
      "       Bottleneck-78           [1, 512, 28, 28]               0\n",
      "           Conv2d-79           [1, 256, 28, 28]         131,072\n",
      "      BatchNorm2d-80           [1, 256, 28, 28]             512\n",
      "             ReLU-81           [1, 256, 28, 28]               0\n",
      "           Conv2d-82           [1, 256, 14, 14]         589,824\n",
      "      BatchNorm2d-83           [1, 256, 14, 14]             512\n",
      "             ReLU-84           [1, 256, 14, 14]               0\n",
      "           Conv2d-85          [1, 1024, 14, 14]         262,144\n",
      "      BatchNorm2d-86          [1, 1024, 14, 14]           2,048\n",
      "           Conv2d-87          [1, 1024, 14, 14]         524,288\n",
      "      BatchNorm2d-88          [1, 1024, 14, 14]           2,048\n",
      "             ReLU-89          [1, 1024, 14, 14]               0\n",
      "       Bottleneck-90          [1, 1024, 14, 14]               0\n",
      "           Conv2d-91           [1, 256, 14, 14]         262,144\n",
      "      BatchNorm2d-92           [1, 256, 14, 14]             512\n",
      "             ReLU-93           [1, 256, 14, 14]               0\n",
      "           Conv2d-94           [1, 256, 14, 14]         589,824\n",
      "      BatchNorm2d-95           [1, 256, 14, 14]             512\n",
      "             ReLU-96           [1, 256, 14, 14]               0\n",
      "           Conv2d-97          [1, 1024, 14, 14]         262,144\n",
      "      BatchNorm2d-98          [1, 1024, 14, 14]           2,048\n",
      "             ReLU-99          [1, 1024, 14, 14]               0\n",
      "      Bottleneck-100          [1, 1024, 14, 14]               0\n",
      "          Conv2d-101           [1, 256, 14, 14]         262,144\n",
      "     BatchNorm2d-102           [1, 256, 14, 14]             512\n",
      "            ReLU-103           [1, 256, 14, 14]               0\n",
      "          Conv2d-104           [1, 256, 14, 14]         589,824\n",
      "     BatchNorm2d-105           [1, 256, 14, 14]             512\n",
      "            ReLU-106           [1, 256, 14, 14]               0\n",
      "          Conv2d-107          [1, 1024, 14, 14]         262,144\n",
      "     BatchNorm2d-108          [1, 1024, 14, 14]           2,048\n",
      "            ReLU-109          [1, 1024, 14, 14]               0\n",
      "      Bottleneck-110          [1, 1024, 14, 14]               0\n",
      "          Conv2d-111           [1, 256, 14, 14]         262,144\n",
      "     BatchNorm2d-112           [1, 256, 14, 14]             512\n",
      "            ReLU-113           [1, 256, 14, 14]               0\n",
      "          Conv2d-114           [1, 256, 14, 14]         589,824\n",
      "     BatchNorm2d-115           [1, 256, 14, 14]             512\n",
      "            ReLU-116           [1, 256, 14, 14]               0\n",
      "          Conv2d-117          [1, 1024, 14, 14]         262,144\n",
      "     BatchNorm2d-118          [1, 1024, 14, 14]           2,048\n",
      "            ReLU-119          [1, 1024, 14, 14]               0\n",
      "      Bottleneck-120          [1, 1024, 14, 14]               0\n",
      "          Conv2d-121           [1, 256, 14, 14]         262,144\n",
      "     BatchNorm2d-122           [1, 256, 14, 14]             512\n",
      "            ReLU-123           [1, 256, 14, 14]               0\n",
      "          Conv2d-124           [1, 256, 14, 14]         589,824\n",
      "     BatchNorm2d-125           [1, 256, 14, 14]             512\n",
      "            ReLU-126           [1, 256, 14, 14]               0\n",
      "          Conv2d-127          [1, 1024, 14, 14]         262,144\n",
      "     BatchNorm2d-128          [1, 1024, 14, 14]           2,048\n",
      "            ReLU-129          [1, 1024, 14, 14]               0\n",
      "      Bottleneck-130          [1, 1024, 14, 14]               0\n",
      "          Conv2d-131           [1, 256, 14, 14]         262,144\n",
      "     BatchNorm2d-132           [1, 256, 14, 14]             512\n",
      "            ReLU-133           [1, 256, 14, 14]               0\n",
      "          Conv2d-134           [1, 256, 14, 14]         589,824\n",
      "     BatchNorm2d-135           [1, 256, 14, 14]             512\n",
      "            ReLU-136           [1, 256, 14, 14]               0\n",
      "          Conv2d-137          [1, 1024, 14, 14]         262,144\n",
      "     BatchNorm2d-138          [1, 1024, 14, 14]           2,048\n",
      "            ReLU-139          [1, 1024, 14, 14]               0\n",
      "      Bottleneck-140          [1, 1024, 14, 14]               0\n",
      "          Conv2d-141           [1, 512, 14, 14]         524,288\n",
      "     BatchNorm2d-142           [1, 512, 14, 14]           1,024\n",
      "            ReLU-143           [1, 512, 14, 14]               0\n",
      "          Conv2d-144             [1, 512, 7, 7]       2,359,296\n",
      "     BatchNorm2d-145             [1, 512, 7, 7]           1,024\n",
      "            ReLU-146             [1, 512, 7, 7]               0\n",
      "          Conv2d-147            [1, 2048, 7, 7]       1,048,576\n",
      "     BatchNorm2d-148            [1, 2048, 7, 7]           4,096\n",
      "          Conv2d-149            [1, 2048, 7, 7]       2,097,152\n",
      "     BatchNorm2d-150            [1, 2048, 7, 7]           4,096\n",
      "            ReLU-151            [1, 2048, 7, 7]               0\n",
      "      Bottleneck-152            [1, 2048, 7, 7]               0\n",
      "          Conv2d-153             [1, 512, 7, 7]       1,048,576\n",
      "     BatchNorm2d-154             [1, 512, 7, 7]           1,024\n",
      "            ReLU-155             [1, 512, 7, 7]               0\n",
      "          Conv2d-156             [1, 512, 7, 7]       2,359,296\n",
      "     BatchNorm2d-157             [1, 512, 7, 7]           1,024\n",
      "            ReLU-158             [1, 512, 7, 7]               0\n",
      "          Conv2d-159            [1, 2048, 7, 7]       1,048,576\n",
      "     BatchNorm2d-160            [1, 2048, 7, 7]           4,096\n",
      "            ReLU-161            [1, 2048, 7, 7]               0\n",
      "      Bottleneck-162            [1, 2048, 7, 7]               0\n",
      "          Conv2d-163             [1, 512, 7, 7]       1,048,576\n",
      "     BatchNorm2d-164             [1, 512, 7, 7]           1,024\n",
      "            ReLU-165             [1, 512, 7, 7]               0\n",
      "          Conv2d-166             [1, 512, 7, 7]       2,359,296\n",
      "     BatchNorm2d-167             [1, 512, 7, 7]           1,024\n",
      "            ReLU-168             [1, 512, 7, 7]               0\n",
      "          Conv2d-169            [1, 2048, 7, 7]       1,048,576\n",
      "     BatchNorm2d-170            [1, 2048, 7, 7]           4,096\n",
      "            ReLU-171            [1, 2048, 7, 7]               0\n",
      "      Bottleneck-172            [1, 2048, 7, 7]               0\n",
      "AdaptiveAvgPool2d-173            [1, 2048, 1, 1]               0\n",
      "          Linear-174                  [1, 1000]       2,049,000\n",
      "================================================================\n",
      "Total params: 25,557,032\n",
      "Trainable params: 25,557,032\n",
      "Non-trainable params: 0\n",
      "----------------------------------------------------------------\n",
      "Input size (MB): 0.57\n",
      "Forward/backward pass size (MB): 286.56\n",
      "Params size (MB): 97.49\n",
      "Estimated Total Size (MB): 384.62\n",
      "----------------------------------------------------------------\n"
     ]
    }
   ],
   "source": [
    "# In-depth check of the output shape of each layer\n",
    "torchsummary.summary(model, input_size=(3, 224, 224), batch_size=1)"
   ]
  },
  {
   "cell_type": "code",
   "execution_count": 48,
   "metadata": {},
   "outputs": [
    {
     "name": "stdout",
     "output_type": "stream",
     "text": [
      "10\n"
     ]
    }
   ],
   "source": [
    "layers = torch.nn.Sequential(*list(model.children()))\n",
    "\n",
    "print(len(layers))\n",
    "\n",
    "# layers"
   ]
  },
  {
   "cell_type": "code",
   "execution_count": 17,
   "metadata": {},
   "outputs": [
    {
     "data": {
      "text/plain": [
       "161"
      ]
     },
     "execution_count": 17,
     "metadata": {},
     "output_type": "execute_result"
    }
   ],
   "source": [
    "named_params = list(model.named_parameters())\n",
    "len(named_params)"
   ]
  },
  {
   "cell_type": "code",
   "execution_count": 31,
   "metadata": {},
   "outputs": [
    {
     "data": {
      "text/plain": [
       "['conv1.weight', 'bn1.weight', 'bn1.bias']"
      ]
     },
     "execution_count": 31,
     "metadata": {},
     "output_type": "execute_result"
    }
   ],
   "source": [
    "# Look at layer names\n",
    "names = [x[0] for x in named_params]\n",
    "\n",
    "names[:3]"
   ]
  },
  {
   "cell_type": "code",
   "execution_count": 40,
   "metadata": {},
   "outputs": [],
   "source": [
    "# Check if layers require grad (that is, are unfrozen)\n",
    "def check_unfrozen_state(model):\n",
    "    named_params = list(model.named_parameters())\n",
    "    return Counter([named_param[1].requires_grad for named_param in named_params])"
   ]
  },
  {
   "cell_type": "code",
   "execution_count": 49,
   "metadata": {},
   "outputs": [
    {
     "data": {
      "text/plain": [
       "Counter({False: 160, True: 1})"
      ]
     },
     "execution_count": 49,
     "metadata": {},
     "output_type": "execute_result"
    }
   ],
   "source": [
    "check_unfrozen_state(model)"
   ]
  },
  {
   "cell_type": "code",
   "execution_count": 34,
   "metadata": {},
   "outputs": [],
   "source": [
    "def freeze_layers(model, n):\n",
    "    '''To freeze the layers of a model. The last `n` layers remain unfrozen.\n",
    "    '''\n",
    "    n_tot_layers = len(list(model.parameters()))\n",
    "    idxs_layers_to_freeze = list(range(0, n_tot_layers - n))\n",
    "\n",
    "    for i, param in enumerate(model.parameters()):\n",
    "        if i in idxs_layers_to_freeze:    \n",
    "            param.requires_grad = False"
   ]
  },
  {
   "cell_type": "code",
   "execution_count": 41,
   "metadata": {},
   "outputs": [
    {
     "data": {
      "text/plain": [
       "Counter({True: 161})"
      ]
     },
     "execution_count": 41,
     "metadata": {},
     "output_type": "execute_result"
    }
   ],
   "source": [
    "model_temp = torchvision.models.resnet50(weights='IMAGENET1K_V2')\n",
    "check_unfrozen_state(model_temp)"
   ]
  },
  {
   "cell_type": "code",
   "execution_count": 42,
   "metadata": {},
   "outputs": [
    {
     "data": {
      "text/plain": [
       "Counter({False: 156, True: 5})"
      ]
     },
     "execution_count": 42,
     "metadata": {},
     "output_type": "execute_result"
    }
   ],
   "source": [
    "freeze_layers(model_temp, 5)\n",
    "check_unfrozen_state(model_temp)"
   ]
  },
  {
   "attachments": {},
   "cell_type": "markdown",
   "metadata": {},
   "source": [
    "## Train-Val-Test split"
   ]
  },
  {
   "cell_type": "code",
   "execution_count": null,
   "metadata": {},
   "outputs": [
    {
     "data": {
      "text/plain": [
       "((167,), (167,), (30,), (30,))"
      ]
     },
     "execution_count": 17,
     "metadata": {},
     "output_type": "execute_result"
    }
   ],
   "source": [
    "X_train_val, X_test, y_train_val, y_test = sklearn.model_selection.train_test_split(\n",
    "    df['filename'].to_numpy(), \n",
    "    df['GT'].to_numpy(), \n",
    "    test_size=0.15, \n",
    "    stratify=df['GT'].to_numpy(),\n",
    "    random_state=42\n",
    ")\n",
    "\n",
    "X_train_val.shape, y_train_val.shape, X_test.shape, y_test.shape"
   ]
  },
  {
   "cell_type": "code",
   "execution_count": null,
   "metadata": {},
   "outputs": [
    {
     "data": {
      "text/plain": [
       "((133,), (133,), (34,), (34,))"
      ]
     },
     "execution_count": 18,
     "metadata": {},
     "output_type": "execute_result"
    }
   ],
   "source": [
    "X_train, X_val, y_train, y_val = sklearn.model_selection.train_test_split(\n",
    "    X_train_val, \n",
    "    y_train_val, \n",
    "    test_size=0.2, \n",
    "    stratify=y_train_val,\n",
    "    random_state=42\n",
    ")\n",
    "\n",
    "X_train.shape, y_train.shape, X_val.shape, y_val.shape"
   ]
  },
  {
   "cell_type": "code",
   "execution_count": null,
   "metadata": {},
   "outputs": [
    {
     "data": {
      "text/plain": [
       "(Counter({'bent': 13, 'straight': 11, 'angular': 10}),\n",
       " Counter({'bent': 11, 'straight': 10, 'angular': 9}))"
      ]
     },
     "execution_count": 19,
     "metadata": {},
     "output_type": "execute_result"
    }
   ],
   "source": [
    "Counter(y_val), Counter(y_test)"
   ]
  },
  {
   "cell_type": "code",
   "execution_count": null,
   "metadata": {},
   "outputs": [],
   "source": [
    "val_df = pd.DataFrame({'filename': X_val, 'GT': y_val})"
   ]
  },
  {
   "cell_type": "code",
   "execution_count": null,
   "metadata": {},
   "outputs": [
    {
     "data": {
      "text/plain": [
       "((157, 2), (40, 2))"
      ]
     },
     "execution_count": 21,
     "metadata": {},
     "output_type": "execute_result"
    }
   ],
   "source": [
    "# Probably cleaner approach\n",
    "df1, df2 = sklearn.model_selection.train_test_split(df, test_size=0.2)\n",
    "\n",
    "df1.shape, df2.shape"
   ]
  },
  {
   "cell_type": "code",
   "execution_count": null,
   "metadata": {},
   "outputs": [],
   "source": [
    "gts = df2.GT.to_list()\n",
    "gts"
   ]
  },
  {
   "cell_type": "code",
   "execution_count": null,
   "metadata": {},
   "outputs": [],
   "source": [
    "from sklearn.preprocessing import LabelEncoder"
   ]
  },
  {
   "cell_type": "code",
   "execution_count": null,
   "metadata": {},
   "outputs": [
    {
     "data": {
      "text/plain": [
       "array([2, 1, 0, 2, 2, 2, 0, 2, 0, 2, 0, 0, 1, 0, 2, 1, 0, 2, 2, 0, 1, 0,\n",
       "       2, 1, 2, 1, 1, 0, 2, 0, 1, 2, 1, 0, 2, 1, 1, 0, 1, 2])"
      ]
     },
     "execution_count": 84,
     "metadata": {},
     "output_type": "execute_result"
    }
   ],
   "source": [
    "encoder = LabelEncoder()\n",
    "encoder.fit_transform(gts)"
   ]
  },
  {
   "cell_type": "code",
   "execution_count": null,
   "metadata": {},
   "outputs": [],
   "source": [
    "encoded = [0 if x=='angular' else 1 if x=='bent' else 2 if x=='straight' else ValueError for x in gts]"
   ]
  },
  {
   "cell_type": "code",
   "execution_count": null,
   "metadata": {},
   "outputs": [
    {
     "data": {
      "text/plain": [
       "tensor([0, 0, 1])"
      ]
     },
     "execution_count": 95,
     "metadata": {},
     "output_type": "execute_result"
    }
   ],
   "source": [
    "torch.nn.functional.one_hot(torch.tensor(encoded[0]))"
   ]
  },
  {
   "cell_type": "code",
   "execution_count": null,
   "metadata": {},
   "outputs": [
    {
     "data": {
      "text/plain": [
       "0"
      ]
     },
     "execution_count": 99,
     "metadata": {},
     "output_type": "execute_result"
    }
   ],
   "source": [
    "x = 'angular'\n",
    "\n",
    "0 if x=='angular' else 1 if x=='bent' else 2 if x=='straight' else ValueError"
   ]
  },
  {
   "cell_type": "code",
   "execution_count": null,
   "metadata": {},
   "outputs": [],
   "source": [
    "def from_gt_to_ohe(gt):\n",
    "    label = 0 if gt =='angular' else 1 if gt =='bent' else 2 if gt =='straight' else ValueError\n",
    "    ohe = torch.nn.functional.one_hot(torch.tensor(label), num_classes=3)\n",
    "    return ohe"
   ]
  },
  {
   "cell_type": "code",
   "execution_count": null,
   "metadata": {},
   "outputs": [
    {
     "data": {
      "text/plain": [
       "(tensor([1, 0, 0]), tensor([0, 1, 0]), tensor([0, 0, 1]))"
      ]
     },
     "execution_count": 104,
     "metadata": {},
     "output_type": "execute_result"
    }
   ],
   "source": [
    "from_gt_to_ohe('angular'), from_gt_to_ohe('bent'), from_gt_to_ohe('straight')"
   ]
  },
  {
   "attachments": {},
   "cell_type": "markdown",
   "metadata": {},
   "source": [
    "## Transforms"
   ]
  },
  {
   "cell_type": "code",
   "execution_count": 6,
   "metadata": {},
   "outputs": [],
   "source": [
    "transforms = A.Compose([\n",
    "    A.LongestMaxSize(max_size=224, interpolation=3, p=1.0),\n",
    "    A.PadIfNeeded(min_height=224, min_width=224, border_mode=0, value=0, mask_value=0, p=1.0),\n",
    "\n",
    "])"
   ]
  },
  {
   "cell_type": "code",
   "execution_count": 7,
   "metadata": {},
   "outputs": [
    {
     "data": {
      "text/plain": [
       "(1080, 716, 3)"
      ]
     },
     "execution_count": 7,
     "metadata": {},
     "output_type": "execute_result"
    }
   ],
   "source": [
    "image = cv2.imread(filepaths[1])\n",
    "image = cv2.cvtColor(image, cv2.COLOR_BGR2RGB)\n",
    "image.shape"
   ]
  },
  {
   "cell_type": "code",
   "execution_count": null,
   "metadata": {},
   "outputs": [],
   "source": [
    "plt.imshow(image)"
   ]
  },
  {
   "cell_type": "code",
   "execution_count": null,
   "metadata": {},
   "outputs": [],
   "source": [
    "transformed_image = transforms(image=image)['image']\n",
    "print(transformed_image.shape)\n",
    "plt.imshow(transformed_image)\n",
    "plt.show()"
   ]
  },
  {
   "cell_type": "code",
   "execution_count": 28,
   "metadata": {},
   "outputs": [],
   "source": [
    "# train_transforms = A.Compose([\n",
    "#     # Dual transforms\n",
    "#     A.Resize(height=256, width=256, interpolation=3, always_apply=True),\n",
    "#     A.Affine(\n",
    "#         scale = (0.8, 1.2),\n",
    "#         rotate = (-360, 360),\n",
    "#         shear = (-20, 20),\n",
    "#         p = 0.5\n",
    "#     ),\n",
    "#     A.HorizontalFlip(p=0.5),\n",
    "#     A.VerticalFlip(p=0.5),\n",
    "#     # Image only transforms\n",
    "#     A.ColorJitter(\n",
    "#         brightness = 0.5,\n",
    "#         contrast = 0.5,\n",
    "#         saturation = 0.5,\n",
    "#         hue = 0,\n",
    "#         p = 0.5\n",
    "#     ),\n",
    "#     A.CLAHE(p=0.5),\n",
    "#     # A.Normalize(mean=(0.4456, 0.4436, 0.4018), std=(0.2220, 0.2154, 0.2298), p=1) # mean and std computed on this dataset.    \n",
    "# ])\n",
    "\n",
    "# val_transforms = A.Compose([\n",
    "#     A.Resize(height=256, width=256, interpolation=3, always_apply=True)"
   ]
  },
  {
   "cell_type": "code",
   "execution_count": 32,
   "metadata": {},
   "outputs": [],
   "source": [
    "transforms1 = A.Compose([\n",
    "    A.LongestMaxSize(max_size=224, interpolation=3, p=1.0),\n",
    "    A.PadIfNeeded(min_height=224, min_width=224, border_mode=0, value=0, mask_value=0, p=1.0),\n",
    "    \n",
    "    # Geometric\n",
    "    A.Affine(\n",
    "        scale = (0.8, 1.2),\n",
    "        rotate = (-360, 360),\n",
    "        shear = (-20, 20),\n",
    "        p = 0.5\n",
    "    ),\n",
    "    A.HorizontalFlip(p=0.5),\n",
    "    A.VerticalFlip(p=0.5),\n",
    "   \n",
    "    # Color\n",
    "    A.ColorJitter(\n",
    "        brightness = 0.7,\n",
    "        contrast = 0.7,\n",
    "        saturation = 0.7,\n",
    "        hue = 0.7,\n",
    "        p = 0.5\n",
    "    ),\n",
    "    A.CLAHE(p=0.5),\n",
    "    A.Normalize(mean=[0.485, 0.456, 0.406], std=[0.229, 0.224, 0.225], p=1.0) # normalization values the ResNet was trained to. torchvision.models.ResNet50_Weights.DEFAULT.transforms()\n",
    "])"
   ]
  },
  {
   "cell_type": "code",
   "execution_count": 33,
   "metadata": {},
   "outputs": [
    {
     "ename": "NameError",
     "evalue": "name 'image' is not defined",
     "output_type": "error",
     "traceback": [
      "\u001b[0;31m---------------------------------------------------------------------------\u001b[0m",
      "\u001b[0;31mNameError\u001b[0m                                 Traceback (most recent call last)",
      "Cell \u001b[0;32mIn[33], line 1\u001b[0m\n\u001b[0;32m----> 1\u001b[0m transformed_image \u001b[39m=\u001b[39m transforms1(image\u001b[39m=\u001b[39mimage)[\u001b[39m'\u001b[39m\u001b[39mimage\u001b[39m\u001b[39m'\u001b[39m]\n\u001b[1;32m      2\u001b[0m \u001b[39mprint\u001b[39m(transformed_image\u001b[39m.\u001b[39mshape)\n\u001b[1;32m      3\u001b[0m plt\u001b[39m.\u001b[39mimshow(transformed_image)\n",
      "\u001b[0;31mNameError\u001b[0m: name 'image' is not defined"
     ]
    }
   ],
   "source": [
    "transformed_image = transforms1(image=image)['image']\n",
    "print(transformed_image.shape)\n",
    "plt.imshow(transformed_image)\n",
    "plt.axis('off')\n",
    "plt.show()"
   ]
  },
  {
   "cell_type": "code",
   "execution_count": 31,
   "metadata": {},
   "outputs": [
    {
     "data": {
      "text/plain": [
       "(-2.117904, -0.3403921)"
      ]
     },
     "execution_count": 31,
     "metadata": {},
     "output_type": "execute_result"
    }
   ],
   "source": [
    "transformed_image.min(), transformed_image.max()"
   ]
  },
  {
   "cell_type": "code",
   "execution_count": 32,
   "metadata": {},
   "outputs": [
    {
     "data": {
      "text/plain": [
       "([0.485, 0.456, 0.406], [0.229, 0.224, 0.225])"
      ]
     },
     "execution_count": 32,
     "metadata": {},
     "output_type": "execute_result"
    }
   ],
   "source": [
    "resnet_transform_info = torchvision.models.ResNet50_Weights.DEFAULT.transforms()\n",
    "mean, std = resnet_transform_info.__dict__['mean'], resnet_transform_info.__dict__['std']\n",
    "\n",
    "mean, std"
   ]
  },
  {
   "attachments": {},
   "cell_type": "markdown",
   "metadata": {},
   "source": [
    "### Transforms with different normalization parameters for the two encoders"
   ]
  },
  {
   "cell_type": "code",
   "execution_count": 2,
   "metadata": {},
   "outputs": [],
   "source": [
    "from src.transforms import CCTransforms"
   ]
  },
  {
   "cell_type": "code",
   "execution_count": 3,
   "metadata": {},
   "outputs": [
    {
     "data": {
      "text/plain": [
       "(512, 512, 3)"
      ]
     },
     "execution_count": 3,
     "metadata": {},
     "output_type": "execute_result"
    }
   ],
   "source": [
    "input = np.random.randint(0, 255, (512, 512, 3)).astype(np.uint8) # dummy image                       # NOTE: resizing with CV2 requires uint8!\n",
    "input.shape"
   ]
  },
  {
   "cell_type": "code",
   "execution_count": 4,
   "metadata": {},
   "outputs": [],
   "source": [
    "mytransforms = CCTransforms(encoder_type='clip')"
   ]
  },
  {
   "cell_type": "code",
   "execution_count": 5,
   "metadata": {},
   "outputs": [
    {
     "data": {
      "text/plain": [
       "torch.Size([3, 224, 224])"
      ]
     },
     "execution_count": 5,
     "metadata": {},
     "output_type": "execute_result"
    }
   ],
   "source": [
    "transformed = mytransforms.train_transforms(image=input)['image']\n",
    "transformed.shape"
   ]
  },
  {
   "cell_type": "code",
   "execution_count": 8,
   "metadata": {},
   "outputs": [
    {
     "data": {
      "text/plain": [
       "torch.Size([1, 3, 224, 224])"
      ]
     },
     "execution_count": 8,
     "metadata": {},
     "output_type": "execute_result"
    }
   ],
   "source": [
    "# Add batch dimension\n",
    "transformed_batch = transformed[None, ...]\n",
    "transformed_batch.shape"
   ]
  },
  {
   "cell_type": "code",
   "execution_count": 9,
   "metadata": {},
   "outputs": [
    {
     "data": {
      "text/plain": [
       "torch.Size([1, 512])"
      ]
     },
     "execution_count": 9,
     "metadata": {},
     "output_type": "execute_result"
    }
   ],
   "source": [
    "# CLIP\n",
    "model = transformers.CLIPModel.from_pretrained('openai/clip-vit-base-patch32')\n",
    "model = model.eval()\n",
    "outputs = model.get_image_features(pixel_values=transformed_batch)\n",
    "outputs.shape"
   ]
  },
  {
   "cell_type": "code",
   "execution_count": 10,
   "metadata": {},
   "outputs": [
    {
     "data": {
      "text/plain": [
       "torch.Size([1, 1000])"
      ]
     },
     "execution_count": 10,
     "metadata": {},
     "output_type": "execute_result"
    }
   ],
   "source": [
    "# ResNet\n",
    "# (using transforms with clip normalization just to test the pipeline)\n",
    "model = torchvision.models.resnet50(weights='IMAGENET1K_V2')\n",
    "model = model.eval()\n",
    "outputs = model(transformed_batch)\n",
    "outputs.shape"
   ]
  },
  {
   "attachments": {},
   "cell_type": "markdown",
   "metadata": {},
   "source": [
    "## Data loading"
   ]
  },
  {
   "cell_type": "code",
   "execution_count": 2,
   "metadata": {},
   "outputs": [],
   "source": [
    "from src.datamodule import CCDataModule"
   ]
  },
  {
   "cell_type": "code",
   "execution_count": 3,
   "metadata": {},
   "outputs": [],
   "source": [
    "dm = CCDataModule(encoder_type='clip')\n",
    "dm.prepare_data()\n",
    "dm.setup('train')"
   ]
  },
  {
   "cell_type": "code",
   "execution_count": 4,
   "metadata": {},
   "outputs": [
    {
     "data": {
      "text/plain": [
       "133"
      ]
     },
     "execution_count": 4,
     "metadata": {},
     "output_type": "execute_result"
    }
   ],
   "source": [
    "ds = dm.train_dataset\n",
    "len(ds)"
   ]
  },
  {
   "cell_type": "code",
   "execution_count": 5,
   "metadata": {},
   "outputs": [
    {
     "data": {
      "text/plain": [
       "17"
      ]
     },
     "execution_count": 5,
     "metadata": {},
     "output_type": "execute_result"
    }
   ],
   "source": [
    "dl = dm.train_dataloader()\n",
    "len(dl)"
   ]
  },
  {
   "cell_type": "code",
   "execution_count": 8,
   "metadata": {},
   "outputs": [
    {
     "data": {
      "text/plain": [
       "(torch.Size([8, 3, 224, 224]), torch.Size([8, 3]))"
      ]
     },
     "execution_count": 8,
     "metadata": {},
     "output_type": "execute_result"
    }
   ],
   "source": [
    "for images, labels in dl:\n",
    "    break \n",
    "\n",
    "images.shape, labels.shape"
   ]
  },
  {
   "attachments": {},
   "cell_type": "markdown",
   "metadata": {},
   "source": [
    "## Module"
   ]
  },
  {
   "cell_type": "code",
   "execution_count": 1,
   "metadata": {},
   "outputs": [],
   "source": [
    "from src.encoder import CLIPEncoder, ResNetEncoder\n",
    "from src.classifier import CCClassifier\n",
    "from src.module import CCModule"
   ]
  },
  {
   "cell_type": "code",
   "execution_count": 2,
   "metadata": {},
   "outputs": [],
   "source": [
    "encoder = CLIPEncoder(version='base')\n",
    "classifier = CCClassifier(encoder_type='clip')"
   ]
  },
  {
   "cell_type": "code",
   "execution_count": 3,
   "metadata": {},
   "outputs": [],
   "source": [
    "model = CCModule(\n",
    "    encoder=encoder,\n",
    "    classifier=classifier,\n",
    "    lr=0.01\n",
    ")"
   ]
  },
  {
   "cell_type": "code",
   "execution_count": 7,
   "metadata": {},
   "outputs": [
    {
     "data": {
      "text/plain": [
       "torch.Size([4, 3, 224, 224])"
      ]
     },
     "execution_count": 7,
     "metadata": {},
     "output_type": "execute_result"
    }
   ],
   "source": [
    "input = torch.rand((4, 3, 224, 224))\n",
    "input.shape"
   ]
  },
  {
   "cell_type": "code",
   "execution_count": 8,
   "metadata": {},
   "outputs": [
    {
     "data": {
      "text/plain": [
       "torch.Size([4, 3])"
      ]
     },
     "execution_count": 8,
     "metadata": {},
     "output_type": "execute_result"
    }
   ],
   "source": [
    "output = model(input)\n",
    "output.shape"
   ]
  },
  {
   "cell_type": "code",
   "execution_count": 9,
   "metadata": {},
   "outputs": [
    {
     "data": {
      "text/plain": [
       "tensor([[-0.0558,  0.1430, -0.0774],\n",
       "        [-0.0549,  0.1093, -0.0838],\n",
       "        [-0.0397,  0.1301, -0.0762],\n",
       "        [-0.0619,  0.1057, -0.0559]], grad_fn=<AddmmBackward0>)"
      ]
     },
     "execution_count": 9,
     "metadata": {},
     "output_type": "execute_result"
    }
   ],
   "source": [
    "output"
   ]
  },
  {
   "attachments": {},
   "cell_type": "markdown",
   "metadata": {},
   "source": [
    "## Loss & Metric"
   ]
  },
  {
   "attachments": {},
   "cell_type": "markdown",
   "metadata": {},
   "source": [
    "### Loss"
   ]
  },
  {
   "cell_type": "code",
   "execution_count": 26,
   "metadata": {},
   "outputs": [],
   "source": [
    "import torchmetrics\n",
    "from src.datamodule import CCDataModule"
   ]
  },
  {
   "cell_type": "code",
   "execution_count": 9,
   "metadata": {},
   "outputs": [
    {
     "data": {
      "text/plain": [
       "(133, 17)"
      ]
     },
     "execution_count": 9,
     "metadata": {},
     "output_type": "execute_result"
    }
   ],
   "source": [
    "dm = CCDataModule(encoder_type='clip')\n",
    "dm.prepare_data()\n",
    "dm.setup('train')\n",
    "\n",
    "ds = dm.train_dataset\n",
    "dl = dm.train_dataloader()\n",
    "\n",
    "len(ds), len(dl)"
   ]
  },
  {
   "cell_type": "code",
   "execution_count": 34,
   "metadata": {},
   "outputs": [
    {
     "data": {
      "text/plain": [
       "(torch.Size([8, 3, 224, 224]), torch.Size([8, 3]))"
      ]
     },
     "execution_count": 34,
     "metadata": {},
     "output_type": "execute_result"
    }
   ],
   "source": [
    "for images, gts in dl:\n",
    "    break \n",
    "\n",
    "images.shape, gts.shape"
   ]
  },
  {
   "cell_type": "code",
   "execution_count": 12,
   "metadata": {},
   "outputs": [],
   "source": [
    "loss_fn = torch.nn.CrossEntropyLoss()"
   ]
  },
  {
   "cell_type": "code",
   "execution_count": 35,
   "metadata": {},
   "outputs": [
    {
     "data": {
      "text/plain": [
       "torch.Size([8, 3])"
      ]
     },
     "execution_count": 35,
     "metadata": {},
     "output_type": "execute_result"
    }
   ],
   "source": [
    "preds = torch.rand_like(gts)\n",
    "preds.shape"
   ]
  },
  {
   "cell_type": "code",
   "execution_count": 36,
   "metadata": {},
   "outputs": [
    {
     "data": {
      "text/plain": [
       "(torch.float16, torch.float16)"
      ]
     },
     "execution_count": 36,
     "metadata": {},
     "output_type": "execute_result"
    }
   ],
   "source": [
    "gts.dtype, preds.dtype"
   ]
  },
  {
   "cell_type": "code",
   "execution_count": 37,
   "metadata": {},
   "outputs": [
    {
     "data": {
      "text/plain": [
       "tensor(0.5514)"
      ]
     },
     "execution_count": 37,
     "metadata": {},
     "output_type": "execute_result"
    }
   ],
   "source": [
    "loss_fn(input=gts.float(), target=gts)"
   ]
  },
  {
   "cell_type": "code",
   "execution_count": 38,
   "metadata": {},
   "outputs": [
    {
     "data": {
      "text/plain": [
       "tensor(1.1436)"
      ]
     },
     "execution_count": 38,
     "metadata": {},
     "output_type": "execute_result"
    }
   ],
   "source": [
    "loss_fn(input=preds.float(), target=gts)"
   ]
  },
  {
   "attachments": {},
   "cell_type": "markdown",
   "metadata": {},
   "source": [
    "### Metric"
   ]
  },
  {
   "cell_type": "code",
   "execution_count": 39,
   "metadata": {},
   "outputs": [],
   "source": [
    "metric = torchmetrics.Accuracy(task=\"multiclass\", num_classes=3)"
   ]
  },
  {
   "cell_type": "code",
   "execution_count": 58,
   "metadata": {},
   "outputs": [
    {
     "data": {
      "text/plain": [
       "tensor([[0., 0., 1.],\n",
       "        [0., 1., 0.],\n",
       "        [0., 0., 1.],\n",
       "        [1., 0., 0.],\n",
       "        [0., 0., 1.],\n",
       "        [0., 1., 0.],\n",
       "        [0., 1., 0.],\n",
       "        [0., 1., 0.]], dtype=torch.float16)"
      ]
     },
     "execution_count": 58,
     "metadata": {},
     "output_type": "execute_result"
    }
   ],
   "source": [
    "gts"
   ]
  },
  {
   "cell_type": "code",
   "execution_count": 56,
   "metadata": {},
   "outputs": [
    {
     "data": {
      "text/plain": [
       "tensor([[1., 0., 0.],\n",
       "        [0., 0., 1.],\n",
       "        [1., 0., 0.],\n",
       "        [0., 1., 0.],\n",
       "        [0., 1., 0.],\n",
       "        [1., 0., 0.],\n",
       "        [1., 0., 0.],\n",
       "        [0., 1., 0.]], dtype=torch.float16)"
      ]
     },
     "execution_count": 56,
     "metadata": {},
     "output_type": "execute_result"
    }
   ],
   "source": [
    "# Random preds (already thresholded)\n",
    "indices = torch.randint(low=0, high=3, size=[8, ])\n",
    "preds = torch.nn.functional.one_hot(indices, num_classes=3).type(torch.float16)\n",
    "\n",
    "preds"
   ]
  },
  {
   "cell_type": "code",
   "execution_count": 59,
   "metadata": {},
   "outputs": [
    {
     "data": {
      "text/plain": [
       "tensor([2, 1, 2, 0, 2, 1, 1, 1])"
      ]
     },
     "execution_count": 59,
     "metadata": {},
     "output_type": "execute_result"
    }
   ],
   "source": [
    "gts_labels = torch.argmax(gts, dim=1)\n",
    "gts_labels"
   ]
  },
  {
   "cell_type": "code",
   "execution_count": 60,
   "metadata": {},
   "outputs": [
    {
     "data": {
      "text/plain": [
       "tensor([0, 2, 0, 1, 1, 0, 0, 1])"
      ]
     },
     "execution_count": 60,
     "metadata": {},
     "output_type": "execute_result"
    }
   ],
   "source": [
    "preds_labels = torch.argmax(preds, dim=1)\n",
    "preds_labels"
   ]
  },
  {
   "cell_type": "code",
   "execution_count": 62,
   "metadata": {},
   "outputs": [
    {
     "data": {
      "text/plain": [
       "tensor(1.)"
      ]
     },
     "execution_count": 62,
     "metadata": {},
     "output_type": "execute_result"
    }
   ],
   "source": [
    "metric(preds=gts_labels, target=gts_labels)"
   ]
  },
  {
   "cell_type": "code",
   "execution_count": 61,
   "metadata": {},
   "outputs": [
    {
     "data": {
      "text/plain": [
       "tensor(0.1250)"
      ]
     },
     "execution_count": 61,
     "metadata": {},
     "output_type": "execute_result"
    }
   ],
   "source": [
    "metric(preds=preds_labels, target=gts_labels)"
   ]
  },
  {
   "cell_type": "code",
   "execution_count": null,
   "metadata": {},
   "outputs": [],
   "source": []
  }
 ],
 "metadata": {
  "kernelspec": {
   "display_name": "clipclass",
   "language": "python",
   "name": "python3"
  },
  "language_info": {
   "codemirror_mode": {
    "name": "ipython",
    "version": 3
   },
   "file_extension": ".py",
   "mimetype": "text/x-python",
   "name": "python",
   "nbconvert_exporter": "python",
   "pygments_lexer": "ipython3",
   "version": "3.9.18"
  }
 },
 "nbformat": 4,
 "nbformat_minor": 2
}
